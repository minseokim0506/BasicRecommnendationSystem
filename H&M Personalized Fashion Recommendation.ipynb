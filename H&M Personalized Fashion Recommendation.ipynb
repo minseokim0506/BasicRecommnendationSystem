{
 "cells": [
  {
   "cell_type": "code",
   "execution_count": 1,
   "id": "dbdb298c",
   "metadata": {
    "ExecuteTime": {
     "end_time": "2023-12-22T10:36:17.149010Z",
     "start_time": "2023-12-22T10:36:14.552314Z"
    }
   },
   "outputs": [],
   "source": [
    "import pandas as pd\n",
    "import numpy as np\n",
    "import re\n",
    "from nltk.stem import WordNetLemmatizer\n",
    "import nltk\n",
    "import fasttext\n",
    "\n",
    "import matplotlib\n",
    "import matplotlib.pyplot as plt\n"
   ]
  },
  {
   "cell_type": "markdown",
   "id": "2d4c0cb0",
   "metadata": {},
   "source": [
    "# Data Analysis"
   ]
  },
  {
   "cell_type": "markdown",
   "id": "fb74f297",
   "metadata": {},
   "source": [
    "## EDA articles"
   ]
  },
  {
   "cell_type": "code",
   "execution_count": 2,
   "id": "44959c7f",
   "metadata": {
    "ExecuteTime": {
     "end_time": "2023-12-22T10:36:18.124678Z",
     "start_time": "2023-12-22T10:36:17.151967Z"
    }
   },
   "outputs": [
    {
     "data": {
      "text/html": [
       "<div>\n",
       "<style scoped>\n",
       "    .dataframe tbody tr th:only-of-type {\n",
       "        vertical-align: middle;\n",
       "    }\n",
       "\n",
       "    .dataframe tbody tr th {\n",
       "        vertical-align: top;\n",
       "    }\n",
       "\n",
       "    .dataframe thead th {\n",
       "        text-align: right;\n",
       "    }\n",
       "</style>\n",
       "<table border=\"1\" class=\"dataframe\">\n",
       "  <thead>\n",
       "    <tr style=\"text-align: right;\">\n",
       "      <th></th>\n",
       "      <th>article_id</th>\n",
       "      <th>product_code</th>\n",
       "      <th>prod_name</th>\n",
       "      <th>product_type_no</th>\n",
       "      <th>product_type_name</th>\n",
       "      <th>product_group_name</th>\n",
       "      <th>graphical_appearance_no</th>\n",
       "      <th>graphical_appearance_name</th>\n",
       "      <th>colour_group_code</th>\n",
       "      <th>colour_group_name</th>\n",
       "      <th>...</th>\n",
       "      <th>department_name</th>\n",
       "      <th>index_code</th>\n",
       "      <th>index_name</th>\n",
       "      <th>index_group_no</th>\n",
       "      <th>index_group_name</th>\n",
       "      <th>section_no</th>\n",
       "      <th>section_name</th>\n",
       "      <th>garment_group_no</th>\n",
       "      <th>garment_group_name</th>\n",
       "      <th>detail_desc</th>\n",
       "    </tr>\n",
       "  </thead>\n",
       "  <tbody>\n",
       "    <tr>\n",
       "      <th>0</th>\n",
       "      <td>108775015</td>\n",
       "      <td>108775</td>\n",
       "      <td>Strap top</td>\n",
       "      <td>253</td>\n",
       "      <td>Vest top</td>\n",
       "      <td>Garment Upper body</td>\n",
       "      <td>1010016</td>\n",
       "      <td>Solid</td>\n",
       "      <td>9</td>\n",
       "      <td>Black</td>\n",
       "      <td>...</td>\n",
       "      <td>Jersey Basic</td>\n",
       "      <td>A</td>\n",
       "      <td>Ladieswear</td>\n",
       "      <td>1</td>\n",
       "      <td>Ladieswear</td>\n",
       "      <td>16</td>\n",
       "      <td>Womens Everyday Basics</td>\n",
       "      <td>1002</td>\n",
       "      <td>Jersey Basic</td>\n",
       "      <td>Jersey top with narrow shoulder straps.</td>\n",
       "    </tr>\n",
       "    <tr>\n",
       "      <th>1</th>\n",
       "      <td>108775044</td>\n",
       "      <td>108775</td>\n",
       "      <td>Strap top</td>\n",
       "      <td>253</td>\n",
       "      <td>Vest top</td>\n",
       "      <td>Garment Upper body</td>\n",
       "      <td>1010016</td>\n",
       "      <td>Solid</td>\n",
       "      <td>10</td>\n",
       "      <td>White</td>\n",
       "      <td>...</td>\n",
       "      <td>Jersey Basic</td>\n",
       "      <td>A</td>\n",
       "      <td>Ladieswear</td>\n",
       "      <td>1</td>\n",
       "      <td>Ladieswear</td>\n",
       "      <td>16</td>\n",
       "      <td>Womens Everyday Basics</td>\n",
       "      <td>1002</td>\n",
       "      <td>Jersey Basic</td>\n",
       "      <td>Jersey top with narrow shoulder straps.</td>\n",
       "    </tr>\n",
       "    <tr>\n",
       "      <th>2</th>\n",
       "      <td>108775051</td>\n",
       "      <td>108775</td>\n",
       "      <td>Strap top (1)</td>\n",
       "      <td>253</td>\n",
       "      <td>Vest top</td>\n",
       "      <td>Garment Upper body</td>\n",
       "      <td>1010017</td>\n",
       "      <td>Stripe</td>\n",
       "      <td>11</td>\n",
       "      <td>Off White</td>\n",
       "      <td>...</td>\n",
       "      <td>Jersey Basic</td>\n",
       "      <td>A</td>\n",
       "      <td>Ladieswear</td>\n",
       "      <td>1</td>\n",
       "      <td>Ladieswear</td>\n",
       "      <td>16</td>\n",
       "      <td>Womens Everyday Basics</td>\n",
       "      <td>1002</td>\n",
       "      <td>Jersey Basic</td>\n",
       "      <td>Jersey top with narrow shoulder straps.</td>\n",
       "    </tr>\n",
       "    <tr>\n",
       "      <th>3</th>\n",
       "      <td>110065001</td>\n",
       "      <td>110065</td>\n",
       "      <td>OP T-shirt (Idro)</td>\n",
       "      <td>306</td>\n",
       "      <td>Bra</td>\n",
       "      <td>Underwear</td>\n",
       "      <td>1010016</td>\n",
       "      <td>Solid</td>\n",
       "      <td>9</td>\n",
       "      <td>Black</td>\n",
       "      <td>...</td>\n",
       "      <td>Clean Lingerie</td>\n",
       "      <td>B</td>\n",
       "      <td>Lingeries/Tights</td>\n",
       "      <td>1</td>\n",
       "      <td>Ladieswear</td>\n",
       "      <td>61</td>\n",
       "      <td>Womens Lingerie</td>\n",
       "      <td>1017</td>\n",
       "      <td>Under-, Nightwear</td>\n",
       "      <td>Microfibre T-shirt bra with underwired, moulde...</td>\n",
       "    </tr>\n",
       "    <tr>\n",
       "      <th>4</th>\n",
       "      <td>110065002</td>\n",
       "      <td>110065</td>\n",
       "      <td>OP T-shirt (Idro)</td>\n",
       "      <td>306</td>\n",
       "      <td>Bra</td>\n",
       "      <td>Underwear</td>\n",
       "      <td>1010016</td>\n",
       "      <td>Solid</td>\n",
       "      <td>10</td>\n",
       "      <td>White</td>\n",
       "      <td>...</td>\n",
       "      <td>Clean Lingerie</td>\n",
       "      <td>B</td>\n",
       "      <td>Lingeries/Tights</td>\n",
       "      <td>1</td>\n",
       "      <td>Ladieswear</td>\n",
       "      <td>61</td>\n",
       "      <td>Womens Lingerie</td>\n",
       "      <td>1017</td>\n",
       "      <td>Under-, Nightwear</td>\n",
       "      <td>Microfibre T-shirt bra with underwired, moulde...</td>\n",
       "    </tr>\n",
       "  </tbody>\n",
       "</table>\n",
       "<p>5 rows × 25 columns</p>\n",
       "</div>"
      ],
      "text/plain": [
       "   article_id  product_code          prod_name  product_type_no  \\\n",
       "0   108775015        108775          Strap top              253   \n",
       "1   108775044        108775          Strap top              253   \n",
       "2   108775051        108775      Strap top (1)              253   \n",
       "3   110065001        110065  OP T-shirt (Idro)              306   \n",
       "4   110065002        110065  OP T-shirt (Idro)              306   \n",
       "\n",
       "  product_type_name  product_group_name  graphical_appearance_no  \\\n",
       "0          Vest top  Garment Upper body                  1010016   \n",
       "1          Vest top  Garment Upper body                  1010016   \n",
       "2          Vest top  Garment Upper body                  1010017   \n",
       "3               Bra           Underwear                  1010016   \n",
       "4               Bra           Underwear                  1010016   \n",
       "\n",
       "  graphical_appearance_name  colour_group_code colour_group_name  ...  \\\n",
       "0                     Solid                  9             Black  ...   \n",
       "1                     Solid                 10             White  ...   \n",
       "2                    Stripe                 11         Off White  ...   \n",
       "3                     Solid                  9             Black  ...   \n",
       "4                     Solid                 10             White  ...   \n",
       "\n",
       "   department_name index_code        index_name index_group_no  \\\n",
       "0     Jersey Basic          A        Ladieswear              1   \n",
       "1     Jersey Basic          A        Ladieswear              1   \n",
       "2     Jersey Basic          A        Ladieswear              1   \n",
       "3   Clean Lingerie          B  Lingeries/Tights              1   \n",
       "4   Clean Lingerie          B  Lingeries/Tights              1   \n",
       "\n",
       "   index_group_name section_no            section_name garment_group_no  \\\n",
       "0        Ladieswear         16  Womens Everyday Basics             1002   \n",
       "1        Ladieswear         16  Womens Everyday Basics             1002   \n",
       "2        Ladieswear         16  Womens Everyday Basics             1002   \n",
       "3        Ladieswear         61         Womens Lingerie             1017   \n",
       "4        Ladieswear         61         Womens Lingerie             1017   \n",
       "\n",
       "   garment_group_name                                        detail_desc  \n",
       "0        Jersey Basic            Jersey top with narrow shoulder straps.  \n",
       "1        Jersey Basic            Jersey top with narrow shoulder straps.  \n",
       "2        Jersey Basic            Jersey top with narrow shoulder straps.  \n",
       "3   Under-, Nightwear  Microfibre T-shirt bra with underwired, moulde...  \n",
       "4   Under-, Nightwear  Microfibre T-shirt bra with underwired, moulde...  \n",
       "\n",
       "[5 rows x 25 columns]"
      ]
     },
     "execution_count": 2,
     "metadata": {},
     "output_type": "execute_result"
    }
   ],
   "source": [
    "articles = pd.read_csv('./articles.csv/articles.csv')\n",
    "articles.head(5)"
   ]
  },
  {
   "cell_type": "code",
   "execution_count": 3,
   "id": "470aae13",
   "metadata": {
    "ExecuteTime": {
     "end_time": "2023-12-22T10:36:18.471913Z",
     "start_time": "2023-12-22T10:36:18.132619Z"
    }
   },
   "outputs": [
    {
     "name": "stdout",
     "output_type": "stream",
     "text": [
      "<class 'pandas.core.frame.DataFrame'>\n",
      "RangeIndex: 105542 entries, 0 to 105541\n",
      "Data columns (total 25 columns):\n",
      " #   Column                        Non-Null Count   Dtype \n",
      "---  ------                        --------------   ----- \n",
      " 0   article_id                    105542 non-null  int64 \n",
      " 1   product_code                  105542 non-null  int64 \n",
      " 2   prod_name                     105542 non-null  object\n",
      " 3   product_type_no               105542 non-null  int64 \n",
      " 4   product_type_name             105542 non-null  object\n",
      " 5   product_group_name            105542 non-null  object\n",
      " 6   graphical_appearance_no       105542 non-null  int64 \n",
      " 7   graphical_appearance_name     105542 non-null  object\n",
      " 8   colour_group_code             105542 non-null  int64 \n",
      " 9   colour_group_name             105542 non-null  object\n",
      " 10  perceived_colour_value_id     105542 non-null  int64 \n",
      " 11  perceived_colour_value_name   105542 non-null  object\n",
      " 12  perceived_colour_master_id    105542 non-null  int64 \n",
      " 13  perceived_colour_master_name  105542 non-null  object\n",
      " 14  department_no                 105542 non-null  int64 \n",
      " 15  department_name               105542 non-null  object\n",
      " 16  index_code                    105542 non-null  object\n",
      " 17  index_name                    105542 non-null  object\n",
      " 18  index_group_no                105542 non-null  int64 \n",
      " 19  index_group_name              105542 non-null  object\n",
      " 20  section_no                    105542 non-null  int64 \n",
      " 21  section_name                  105542 non-null  object\n",
      " 22  garment_group_no              105542 non-null  int64 \n",
      " 23  garment_group_name            105542 non-null  object\n",
      " 24  detail_desc                   105126 non-null  object\n",
      "dtypes: int64(11), object(14)\n",
      "memory usage: 20.1+ MB\n"
     ]
    }
   ],
   "source": [
    "articles.info() \n",
    "#결측값 존재 x\n",
    "#article_id값에 따른 다양한 값들 "
   ]
  },
  {
   "cell_type": "code",
   "execution_count": 22,
   "id": "da032972",
   "metadata": {
    "ExecuteTime": {
     "end_time": "2023-12-23T05:57:35.131745Z",
     "start_time": "2023-12-23T05:57:34.208558Z"
    }
   },
   "outputs": [
    {
     "data": {
      "text/plain": [
       "article_id                        0\n",
       "product_code                      0\n",
       "prod_name                         0\n",
       "product_type_no                   0\n",
       "product_type_name                 0\n",
       "product_group_name                0\n",
       "graphical_appearance_no           0\n",
       "graphical_appearance_name         0\n",
       "colour_group_code                 0\n",
       "colour_group_name                 0\n",
       "perceived_colour_value_id         0\n",
       "perceived_colour_value_name       0\n",
       "perceived_colour_master_id        0\n",
       "perceived_colour_master_name      0\n",
       "department_no                     0\n",
       "department_name                   0\n",
       "index_code                        0\n",
       "index_name                        0\n",
       "index_group_no                    0\n",
       "index_group_name                  0\n",
       "section_no                        0\n",
       "section_name                      0\n",
       "garment_group_no                  0\n",
       "garment_group_name                0\n",
       "detail_desc                     416\n",
       "dtype: int64"
      ]
     },
     "execution_count": 22,
     "metadata": {},
     "output_type": "execute_result"
    }
   ],
   "source": [
    "articles.isnull().sum()"
   ]
  },
  {
   "cell_type": "code",
   "execution_count": 4,
   "id": "def14512",
   "metadata": {
    "ExecuteTime": {
     "end_time": "2023-12-22T10:36:18.659123Z",
     "start_time": "2023-12-22T10:36:18.473765Z"
    },
    "scrolled": true
   },
   "outputs": [
    {
     "data": {
      "text/plain": [
       "article_id                      105542\n",
       "product_code                     47224\n",
       "prod_name                        45875\n",
       "product_type_no                    132\n",
       "product_type_name                  131\n",
       "product_group_name                  19\n",
       "graphical_appearance_no             30\n",
       "graphical_appearance_name           30\n",
       "colour_group_code                   50\n",
       "colour_group_name                   50\n",
       "perceived_colour_value_id            8\n",
       "perceived_colour_value_name          8\n",
       "perceived_colour_master_id          20\n",
       "perceived_colour_master_name        20\n",
       "department_no                      299\n",
       "department_name                    250\n",
       "index_code                          10\n",
       "index_name                          10\n",
       "index_group_no                       5\n",
       "index_group_name                     5\n",
       "section_no                          57\n",
       "section_name                        56\n",
       "garment_group_no                    21\n",
       "garment_group_name                  21\n",
       "detail_desc                      43404\n",
       "dtype: int64"
      ]
     },
     "execution_count": 4,
     "metadata": {},
     "output_type": "execute_result"
    }
   ],
   "source": [
    "articles.nunique()"
   ]
  },
  {
   "cell_type": "code",
   "execution_count": 5,
   "id": "e604e3a4",
   "metadata": {
    "ExecuteTime": {
     "end_time": "2023-12-22T10:36:18.674108Z",
     "start_time": "2023-12-22T10:36:18.661108Z"
    }
   },
   "outputs": [],
   "source": [
    "ohe_columns = ['product_group_name', 'graphical_appearance_no','perceived_colour_master_id', 'index_code', \\\n",
    "               'garment_group_no'] #원핫 인코딩\n",
    "emb_columns = ['product_type_name', 'department_name', 'colour_group_name', 'section_name', 'detail_desc'] #text based data 임베딩"
   ]
  },
  {
   "cell_type": "markdown",
   "id": "110fd40d",
   "metadata": {},
   "source": [
    "## Preprocess articles"
   ]
  },
  {
   "cell_type": "markdown",
   "id": "33f67ad7",
   "metadata": {},
   "source": [
    "### emb_columns (text based feature)"
   ]
  },
  {
   "cell_type": "markdown",
   "id": "2f0c8570",
   "metadata": {},
   "source": [
    "**불용어 처리, 표제어 추출 활용해 전처리 후 fasttext 활용 임베딩**"
   ]
  },
  {
   "cell_type": "code",
   "execution_count": 6,
   "id": "daba2604",
   "metadata": {
    "ExecuteTime": {
     "end_time": "2023-12-22T10:36:18.720948Z",
     "start_time": "2023-12-22T10:36:18.678063Z"
    },
    "scrolled": false
   },
   "outputs": [
    {
     "data": {
      "text/html": [
       "<div>\n",
       "<style scoped>\n",
       "    .dataframe tbody tr th:only-of-type {\n",
       "        vertical-align: middle;\n",
       "    }\n",
       "\n",
       "    .dataframe tbody tr th {\n",
       "        vertical-align: top;\n",
       "    }\n",
       "\n",
       "    .dataframe thead th {\n",
       "        text-align: right;\n",
       "    }\n",
       "</style>\n",
       "<table border=\"1\" class=\"dataframe\">\n",
       "  <thead>\n",
       "    <tr style=\"text-align: right;\">\n",
       "      <th></th>\n",
       "      <th>article_id</th>\n",
       "      <th>product_type_name</th>\n",
       "      <th>department_name</th>\n",
       "      <th>colour_group_name</th>\n",
       "      <th>section_name</th>\n",
       "      <th>detail_desc</th>\n",
       "    </tr>\n",
       "  </thead>\n",
       "  <tbody>\n",
       "    <tr>\n",
       "      <th>0</th>\n",
       "      <td>108775015</td>\n",
       "      <td>Vest top</td>\n",
       "      <td>Jersey Basic</td>\n",
       "      <td>Black</td>\n",
       "      <td>Womens Everyday Basics</td>\n",
       "      <td>Jersey top with narrow shoulder straps.</td>\n",
       "    </tr>\n",
       "    <tr>\n",
       "      <th>1</th>\n",
       "      <td>108775044</td>\n",
       "      <td>Vest top</td>\n",
       "      <td>Jersey Basic</td>\n",
       "      <td>White</td>\n",
       "      <td>Womens Everyday Basics</td>\n",
       "      <td>Jersey top with narrow shoulder straps.</td>\n",
       "    </tr>\n",
       "    <tr>\n",
       "      <th>2</th>\n",
       "      <td>108775051</td>\n",
       "      <td>Vest top</td>\n",
       "      <td>Jersey Basic</td>\n",
       "      <td>Off White</td>\n",
       "      <td>Womens Everyday Basics</td>\n",
       "      <td>Jersey top with narrow shoulder straps.</td>\n",
       "    </tr>\n",
       "    <tr>\n",
       "      <th>3</th>\n",
       "      <td>110065001</td>\n",
       "      <td>Bra</td>\n",
       "      <td>Clean Lingerie</td>\n",
       "      <td>Black</td>\n",
       "      <td>Womens Lingerie</td>\n",
       "      <td>Microfibre T-shirt bra with underwired, moulde...</td>\n",
       "    </tr>\n",
       "    <tr>\n",
       "      <th>4</th>\n",
       "      <td>110065002</td>\n",
       "      <td>Bra</td>\n",
       "      <td>Clean Lingerie</td>\n",
       "      <td>White</td>\n",
       "      <td>Womens Lingerie</td>\n",
       "      <td>Microfibre T-shirt bra with underwired, moulde...</td>\n",
       "    </tr>\n",
       "    <tr>\n",
       "      <th>...</th>\n",
       "      <td>...</td>\n",
       "      <td>...</td>\n",
       "      <td>...</td>\n",
       "      <td>...</td>\n",
       "      <td>...</td>\n",
       "      <td>...</td>\n",
       "    </tr>\n",
       "    <tr>\n",
       "      <th>105537</th>\n",
       "      <td>953450001</td>\n",
       "      <td>Socks</td>\n",
       "      <td>Socks Bin</td>\n",
       "      <td>Black</td>\n",
       "      <td>Men Underwear</td>\n",
       "      <td>Socks in a fine-knit cotton blend with a small...</td>\n",
       "    </tr>\n",
       "    <tr>\n",
       "      <th>105538</th>\n",
       "      <td>953763001</td>\n",
       "      <td>Vest top</td>\n",
       "      <td>Jersey</td>\n",
       "      <td>Black</td>\n",
       "      <td>H&amp;M+</td>\n",
       "      <td>Loose-fitting sports vest top in ribbed fast-d...</td>\n",
       "    </tr>\n",
       "    <tr>\n",
       "      <th>105539</th>\n",
       "      <td>956217002</td>\n",
       "      <td>Dress</td>\n",
       "      <td>Jersey</td>\n",
       "      <td>Black</td>\n",
       "      <td>Womens Trend</td>\n",
       "      <td>Short, A-line dress in jersey with a round nec...</td>\n",
       "    </tr>\n",
       "    <tr>\n",
       "      <th>105540</th>\n",
       "      <td>957375001</td>\n",
       "      <td>Hair clip</td>\n",
       "      <td>Small Accessories</td>\n",
       "      <td>Black</td>\n",
       "      <td>Divided Accessories</td>\n",
       "      <td>Large plastic hair claw.</td>\n",
       "    </tr>\n",
       "    <tr>\n",
       "      <th>105541</th>\n",
       "      <td>959461001</td>\n",
       "      <td>Dress</td>\n",
       "      <td>Jersey</td>\n",
       "      <td>Off White</td>\n",
       "      <td>Womens Trend</td>\n",
       "      <td>Calf-length dress in ribbed jersey made from a...</td>\n",
       "    </tr>\n",
       "  </tbody>\n",
       "</table>\n",
       "<p>105542 rows × 6 columns</p>\n",
       "</div>"
      ],
      "text/plain": [
       "        article_id product_type_name    department_name colour_group_name  \\\n",
       "0        108775015          Vest top       Jersey Basic             Black   \n",
       "1        108775044          Vest top       Jersey Basic             White   \n",
       "2        108775051          Vest top       Jersey Basic         Off White   \n",
       "3        110065001               Bra     Clean Lingerie             Black   \n",
       "4        110065002               Bra     Clean Lingerie             White   \n",
       "...            ...               ...                ...               ...   \n",
       "105537   953450001             Socks          Socks Bin             Black   \n",
       "105538   953763001          Vest top             Jersey             Black   \n",
       "105539   956217002             Dress             Jersey             Black   \n",
       "105540   957375001         Hair clip  Small Accessories             Black   \n",
       "105541   959461001             Dress             Jersey         Off White   \n",
       "\n",
       "                  section_name  \\\n",
       "0       Womens Everyday Basics   \n",
       "1       Womens Everyday Basics   \n",
       "2       Womens Everyday Basics   \n",
       "3              Womens Lingerie   \n",
       "4              Womens Lingerie   \n",
       "...                        ...   \n",
       "105537           Men Underwear   \n",
       "105538                    H&M+   \n",
       "105539            Womens Trend   \n",
       "105540     Divided Accessories   \n",
       "105541            Womens Trend   \n",
       "\n",
       "                                              detail_desc  \n",
       "0                 Jersey top with narrow shoulder straps.  \n",
       "1                 Jersey top with narrow shoulder straps.  \n",
       "2                 Jersey top with narrow shoulder straps.  \n",
       "3       Microfibre T-shirt bra with underwired, moulde...  \n",
       "4       Microfibre T-shirt bra with underwired, moulde...  \n",
       "...                                                   ...  \n",
       "105537  Socks in a fine-knit cotton blend with a small...  \n",
       "105538  Loose-fitting sports vest top in ribbed fast-d...  \n",
       "105539  Short, A-line dress in jersey with a round nec...  \n",
       "105540                           Large plastic hair claw.  \n",
       "105541  Calf-length dress in ribbed jersey made from a...  \n",
       "\n",
       "[105542 rows x 6 columns]"
      ]
     },
     "execution_count": 6,
     "metadata": {},
     "output_type": "execute_result"
    }
   ],
   "source": [
    "articles[['article_id']+emb_columns]"
   ]
  },
  {
   "cell_type": "code",
   "execution_count": 7,
   "id": "87e52393",
   "metadata": {
    "ExecuteTime": {
     "end_time": "2023-12-22T10:36:23.411291Z",
     "start_time": "2023-12-22T10:36:18.723950Z"
    }
   },
   "outputs": [],
   "source": [
    "stopwords = set(nltk.corpus.stopwords.words('english'))\n",
    "lemmatizer = WordNetLemmatizer()"
   ]
  },
  {
   "cell_type": "code",
   "execution_count": 8,
   "id": "b8b9d102",
   "metadata": {
    "ExecuteTime": {
     "end_time": "2023-12-22T10:36:25.426629Z",
     "start_time": "2023-12-22T10:36:23.414288Z"
    }
   },
   "outputs": [
    {
     "data": {
      "text/plain": [
       "'pocket slim fit tshirt h plus'"
      ]
     },
     "execution_count": 8,
     "metadata": {},
     "output_type": "execute_result"
    }
   ],
   "source": [
    "def preprocess(x):\n",
    "    x = ' '+x+' '\n",
    "    x = x.lower()\n",
    "    \n",
    "    # remove digits\n",
    "    x = re.sub(r'\\d+\\-\\d+', ' ', x)\n",
    "    x = re.sub(r'\\d+\\.\\d+', ' ', x)\n",
    "    x = re.sub(r'\\d+/\\d+', ' ', x)\n",
    "    x = re.sub(r'\\d+', ' ', x)\n",
    "    # remove everything in braces\n",
    "    x = re.sub(r'\\(.+?\\)', ' ', x)\n",
    "    \n",
    "    x = re.sub(r' cm ', ' ', x)\n",
    "    x = re.sub(r' denier ', ' ', x)\n",
    "    x = re.sub(r' t\\-shirt ', ' tshirt ', x)\n",
    "    x = re.sub(r'(\\w+)(\\+)', r'\\1 plus', x)\n",
    "    # remove everything except letters\n",
    "    x = re.sub(r'[^a-z\\s]', ' ', x)\n",
    "    tokens = x.strip().split()\n",
    "    tokens = ' '.join([lemmatizer.lemmatize(token) for token in tokens if token not in stopwords])\n",
    "    return tokens\n",
    "\n",
    "s = '5-pocket slim-fit t-shirt h&m+'\n",
    "preprocess(s)"
   ]
  },
  {
   "cell_type": "code",
   "execution_count": 9,
   "id": "a486ca20",
   "metadata": {
    "ExecuteTime": {
     "end_time": "2023-12-22T10:36:44.332445Z",
     "start_time": "2023-12-22T10:36:25.432614Z"
    }
   },
   "outputs": [
    {
     "name": "stderr",
     "output_type": "stream",
     "text": [
      "100%|████████████████████████████████████████████████████████████████████████| 105542/105542 [00:18<00:00, 5640.60it/s]\n"
     ]
    }
   ],
   "source": [
    "from tqdm import tqdm\n",
    "tqdm.pandas()\n",
    "articles['desc_full'] = articles['product_type_name']+' '+articles['department_name']+' '\\\n",
    "                        +articles['colour_group_name']+' '+articles['section_name']+' '\\\n",
    "                        +articles['detail_desc'].fillna(' ')\n",
    "articles['desc_full_prep'] = articles['desc_full'].progress_apply(preprocess)"
   ]
  },
  {
   "cell_type": "code",
   "execution_count": 10,
   "id": "258a6e8a",
   "metadata": {
    "ExecuteTime": {
     "end_time": "2023-12-22T10:36:44.610465Z",
     "start_time": "2023-12-22T10:36:44.335207Z"
    }
   },
   "outputs": [],
   "source": [
    "texts = articles['desc_full_prep'].unique().tolist()\n",
    "with open('texts_normalized.txt', 'w') as f:\n",
    "    for text in texts:\n",
    "        f.write(text)\n",
    "        f.write('\\n')"
   ]
  },
  {
   "cell_type": "code",
   "execution_count": 12,
   "id": "05d15643",
   "metadata": {
    "ExecuteTime": {
     "end_time": "2023-12-22T10:37:58.369146Z",
     "start_time": "2023-12-22T10:36:54.964759Z"
    }
   },
   "outputs": [],
   "source": [
    "fasttext_model = fasttext.train_unsupervised('texts_normalized.txt', minn=2, maxn=5, dim=200)"
   ]
  },
  {
   "cell_type": "code",
   "execution_count": 13,
   "id": "5d483485",
   "metadata": {
    "ExecuteTime": {
     "end_time": "2023-12-22T10:38:16.036913Z",
     "start_time": "2023-12-22T10:37:58.372139Z"
    }
   },
   "outputs": [],
   "source": [
    "doc2vec_dict = {}\n",
    "for row in articles[['article_id', 'desc_full_prep']].itertuples():\n",
    "    doc2vec_dict[row[1]] = fasttext_model.get_sentence_vector(row[2])"
   ]
  },
  {
   "cell_type": "code",
   "execution_count": 14,
   "id": "e643cfab",
   "metadata": {
    "ExecuteTime": {
     "end_time": "2023-12-22T10:38:16.132657Z",
     "start_time": "2023-12-22T10:38:16.038908Z"
    }
   },
   "outputs": [
    {
     "data": {
      "text/plain": [
       "(105542, 200)"
      ]
     },
     "execution_count": 14,
     "metadata": {},
     "output_type": "execute_result"
    }
   ],
   "source": [
    "emb_features = np.array(list(doc2vec_dict.values()))\n",
    "emb_features.shape"
   ]
  },
  {
   "cell_type": "markdown",
   "id": "aaf38a72",
   "metadata": {},
   "source": [
    "### ohe_columns"
   ]
  },
  {
   "cell_type": "markdown",
   "id": "a82ccaea",
   "metadata": {},
   "source": [
    "**one hot encoding for categorical feature**"
   ]
  },
  {
   "cell_type": "code",
   "execution_count": 15,
   "id": "ed168fbb",
   "metadata": {
    "ExecuteTime": {
     "end_time": "2023-12-22T10:38:16.164585Z",
     "start_time": "2023-12-22T10:38:16.136646Z"
    },
    "scrolled": true
   },
   "outputs": [
    {
     "data": {
      "text/html": [
       "<div>\n",
       "<style scoped>\n",
       "    .dataframe tbody tr th:only-of-type {\n",
       "        vertical-align: middle;\n",
       "    }\n",
       "\n",
       "    .dataframe tbody tr th {\n",
       "        vertical-align: top;\n",
       "    }\n",
       "\n",
       "    .dataframe thead th {\n",
       "        text-align: right;\n",
       "    }\n",
       "</style>\n",
       "<table border=\"1\" class=\"dataframe\">\n",
       "  <thead>\n",
       "    <tr style=\"text-align: right;\">\n",
       "      <th></th>\n",
       "      <th>article_id</th>\n",
       "      <th>product_group_name</th>\n",
       "      <th>graphical_appearance_no</th>\n",
       "      <th>perceived_colour_master_id</th>\n",
       "      <th>index_code</th>\n",
       "      <th>garment_group_no</th>\n",
       "    </tr>\n",
       "  </thead>\n",
       "  <tbody>\n",
       "    <tr>\n",
       "      <th>0</th>\n",
       "      <td>108775015</td>\n",
       "      <td>Garment Upper body</td>\n",
       "      <td>1010016</td>\n",
       "      <td>5</td>\n",
       "      <td>A</td>\n",
       "      <td>1002</td>\n",
       "    </tr>\n",
       "    <tr>\n",
       "      <th>1</th>\n",
       "      <td>108775044</td>\n",
       "      <td>Garment Upper body</td>\n",
       "      <td>1010016</td>\n",
       "      <td>9</td>\n",
       "      <td>A</td>\n",
       "      <td>1002</td>\n",
       "    </tr>\n",
       "    <tr>\n",
       "      <th>2</th>\n",
       "      <td>108775051</td>\n",
       "      <td>Garment Upper body</td>\n",
       "      <td>1010017</td>\n",
       "      <td>9</td>\n",
       "      <td>A</td>\n",
       "      <td>1002</td>\n",
       "    </tr>\n",
       "    <tr>\n",
       "      <th>3</th>\n",
       "      <td>110065001</td>\n",
       "      <td>Underwear</td>\n",
       "      <td>1010016</td>\n",
       "      <td>5</td>\n",
       "      <td>B</td>\n",
       "      <td>1017</td>\n",
       "    </tr>\n",
       "    <tr>\n",
       "      <th>4</th>\n",
       "      <td>110065002</td>\n",
       "      <td>Underwear</td>\n",
       "      <td>1010016</td>\n",
       "      <td>9</td>\n",
       "      <td>B</td>\n",
       "      <td>1017</td>\n",
       "    </tr>\n",
       "    <tr>\n",
       "      <th>...</th>\n",
       "      <td>...</td>\n",
       "      <td>...</td>\n",
       "      <td>...</td>\n",
       "      <td>...</td>\n",
       "      <td>...</td>\n",
       "      <td>...</td>\n",
       "    </tr>\n",
       "    <tr>\n",
       "      <th>105537</th>\n",
       "      <td>953450001</td>\n",
       "      <td>Socks &amp; Tights</td>\n",
       "      <td>1010014</td>\n",
       "      <td>5</td>\n",
       "      <td>F</td>\n",
       "      <td>1021</td>\n",
       "    </tr>\n",
       "    <tr>\n",
       "      <th>105538</th>\n",
       "      <td>953763001</td>\n",
       "      <td>Garment Upper body</td>\n",
       "      <td>1010016</td>\n",
       "      <td>5</td>\n",
       "      <td>A</td>\n",
       "      <td>1005</td>\n",
       "    </tr>\n",
       "    <tr>\n",
       "      <th>105539</th>\n",
       "      <td>956217002</td>\n",
       "      <td>Garment Full body</td>\n",
       "      <td>1010016</td>\n",
       "      <td>5</td>\n",
       "      <td>A</td>\n",
       "      <td>1005</td>\n",
       "    </tr>\n",
       "    <tr>\n",
       "      <th>105540</th>\n",
       "      <td>957375001</td>\n",
       "      <td>Accessories</td>\n",
       "      <td>1010016</td>\n",
       "      <td>5</td>\n",
       "      <td>D</td>\n",
       "      <td>1019</td>\n",
       "    </tr>\n",
       "    <tr>\n",
       "      <th>105541</th>\n",
       "      <td>959461001</td>\n",
       "      <td>Garment Full body</td>\n",
       "      <td>1010016</td>\n",
       "      <td>9</td>\n",
       "      <td>A</td>\n",
       "      <td>1005</td>\n",
       "    </tr>\n",
       "  </tbody>\n",
       "</table>\n",
       "<p>105542 rows × 6 columns</p>\n",
       "</div>"
      ],
      "text/plain": [
       "        article_id  product_group_name  graphical_appearance_no  \\\n",
       "0        108775015  Garment Upper body                  1010016   \n",
       "1        108775044  Garment Upper body                  1010016   \n",
       "2        108775051  Garment Upper body                  1010017   \n",
       "3        110065001           Underwear                  1010016   \n",
       "4        110065002           Underwear                  1010016   \n",
       "...            ...                 ...                      ...   \n",
       "105537   953450001      Socks & Tights                  1010014   \n",
       "105538   953763001  Garment Upper body                  1010016   \n",
       "105539   956217002   Garment Full body                  1010016   \n",
       "105540   957375001         Accessories                  1010016   \n",
       "105541   959461001   Garment Full body                  1010016   \n",
       "\n",
       "        perceived_colour_master_id index_code  garment_group_no  \n",
       "0                                5          A              1002  \n",
       "1                                9          A              1002  \n",
       "2                                9          A              1002  \n",
       "3                                5          B              1017  \n",
       "4                                9          B              1017  \n",
       "...                            ...        ...               ...  \n",
       "105537                           5          F              1021  \n",
       "105538                           5          A              1005  \n",
       "105539                           5          A              1005  \n",
       "105540                           5          D              1019  \n",
       "105541                           9          A              1005  \n",
       "\n",
       "[105542 rows x 6 columns]"
      ]
     },
     "execution_count": 15,
     "metadata": {},
     "output_type": "execute_result"
    }
   ],
   "source": [
    "articles[['article_id']+ohe_columns]"
   ]
  },
  {
   "cell_type": "code",
   "execution_count": 16,
   "id": "64608ba3",
   "metadata": {
    "ExecuteTime": {
     "end_time": "2023-12-22T10:38:16.527475Z",
     "start_time": "2023-12-22T10:38:16.169560Z"
    }
   },
   "outputs": [
    {
     "data": {
      "text/plain": [
       "(105542, 100)"
      ]
     },
     "execution_count": 16,
     "metadata": {},
     "output_type": "execute_result"
    }
   ],
   "source": [
    "ohe_features = pd.get_dummies(articles[ohe_columns].astype(str)).astype(int).values\n",
    "ohe_features.shape"
   ]
  },
  {
   "cell_type": "markdown",
   "id": "2299cca6",
   "metadata": {},
   "source": [
    "**concat emb_feature and ohe_feature**"
   ]
  },
  {
   "cell_type": "code",
   "execution_count": 17,
   "id": "36fa1d33",
   "metadata": {
    "ExecuteTime": {
     "end_time": "2023-12-22T10:38:16.716974Z",
     "start_time": "2023-12-22T10:38:16.530475Z"
    }
   },
   "outputs": [
    {
     "data": {
      "text/plain": [
       "(105542, 300)"
      ]
     },
     "execution_count": 17,
     "metadata": {},
     "output_type": "execute_result"
    }
   ],
   "source": [
    "articles_features = np.concatenate([emb_features, ohe_features], axis=1)\n",
    "articles_features.shape"
   ]
  },
  {
   "cell_type": "code",
   "execution_count": 18,
   "id": "9e2242a8",
   "metadata": {
    "ExecuteTime": {
     "end_time": "2023-12-22T10:38:16.841673Z",
     "start_time": "2023-12-22T10:38:16.719966Z"
    }
   },
   "outputs": [],
   "source": [
    "articles_features_with_id = {}\n",
    "for article_id, features in zip(articles['article_id'].values, articles_features):\n",
    "    articles_features_with_id[article_id] = features"
   ]
  },
  {
   "cell_type": "markdown",
   "id": "18f43d2e",
   "metadata": {},
   "source": [
    "## EDA customers"
   ]
  },
  {
   "cell_type": "code",
   "execution_count": 5,
   "id": "cd3488f9",
   "metadata": {
    "ExecuteTime": {
     "end_time": "2023-12-23T07:02:06.257642Z",
     "start_time": "2023-12-23T07:01:59.357401Z"
    }
   },
   "outputs": [],
   "source": [
    "customers = pd.read_csv('./customers.csv/customers.csv')"
   ]
  },
  {
   "cell_type": "code",
   "execution_count": 20,
   "id": "e3587517",
   "metadata": {
    "ExecuteTime": {
     "end_time": "2023-12-22T10:38:20.577741Z",
     "start_time": "2023-12-22T10:38:20.548855Z"
    }
   },
   "outputs": [
    {
     "data": {
      "text/html": [
       "<div>\n",
       "<style scoped>\n",
       "    .dataframe tbody tr th:only-of-type {\n",
       "        vertical-align: middle;\n",
       "    }\n",
       "\n",
       "    .dataframe tbody tr th {\n",
       "        vertical-align: top;\n",
       "    }\n",
       "\n",
       "    .dataframe thead th {\n",
       "        text-align: right;\n",
       "    }\n",
       "</style>\n",
       "<table border=\"1\" class=\"dataframe\">\n",
       "  <thead>\n",
       "    <tr style=\"text-align: right;\">\n",
       "      <th></th>\n",
       "      <th>customer_id</th>\n",
       "      <th>FN</th>\n",
       "      <th>Active</th>\n",
       "      <th>club_member_status</th>\n",
       "      <th>fashion_news_frequency</th>\n",
       "      <th>age</th>\n",
       "      <th>postal_code</th>\n",
       "    </tr>\n",
       "  </thead>\n",
       "  <tbody>\n",
       "    <tr>\n",
       "      <th>0</th>\n",
       "      <td>00000dbacae5abe5e23885899a1fa44253a17956c6d1c3...</td>\n",
       "      <td>NaN</td>\n",
       "      <td>NaN</td>\n",
       "      <td>ACTIVE</td>\n",
       "      <td>NONE</td>\n",
       "      <td>49.0</td>\n",
       "      <td>52043ee2162cf5aa7ee79974281641c6f11a68d276429a...</td>\n",
       "    </tr>\n",
       "    <tr>\n",
       "      <th>1</th>\n",
       "      <td>0000423b00ade91418cceaf3b26c6af3dd342b51fd051e...</td>\n",
       "      <td>NaN</td>\n",
       "      <td>NaN</td>\n",
       "      <td>ACTIVE</td>\n",
       "      <td>NONE</td>\n",
       "      <td>25.0</td>\n",
       "      <td>2973abc54daa8a5f8ccfe9362140c63247c5eee03f1d93...</td>\n",
       "    </tr>\n",
       "    <tr>\n",
       "      <th>2</th>\n",
       "      <td>000058a12d5b43e67d225668fa1f8d618c13dc232df0ca...</td>\n",
       "      <td>NaN</td>\n",
       "      <td>NaN</td>\n",
       "      <td>ACTIVE</td>\n",
       "      <td>NONE</td>\n",
       "      <td>24.0</td>\n",
       "      <td>64f17e6a330a85798e4998f62d0930d14db8db1c054af6...</td>\n",
       "    </tr>\n",
       "    <tr>\n",
       "      <th>3</th>\n",
       "      <td>00005ca1c9ed5f5146b52ac8639a40ca9d57aeff4d1bd2...</td>\n",
       "      <td>NaN</td>\n",
       "      <td>NaN</td>\n",
       "      <td>ACTIVE</td>\n",
       "      <td>NONE</td>\n",
       "      <td>54.0</td>\n",
       "      <td>5d36574f52495e81f019b680c843c443bd343d5ca5b1c2...</td>\n",
       "    </tr>\n",
       "    <tr>\n",
       "      <th>4</th>\n",
       "      <td>00006413d8573cd20ed7128e53b7b13819fe5cfc2d801f...</td>\n",
       "      <td>1.0</td>\n",
       "      <td>1.0</td>\n",
       "      <td>ACTIVE</td>\n",
       "      <td>Regularly</td>\n",
       "      <td>52.0</td>\n",
       "      <td>25fa5ddee9aac01b35208d01736e57942317d756b32ddd...</td>\n",
       "    </tr>\n",
       "  </tbody>\n",
       "</table>\n",
       "</div>"
      ],
      "text/plain": [
       "                                         customer_id   FN  Active  \\\n",
       "0  00000dbacae5abe5e23885899a1fa44253a17956c6d1c3...  NaN     NaN   \n",
       "1  0000423b00ade91418cceaf3b26c6af3dd342b51fd051e...  NaN     NaN   \n",
       "2  000058a12d5b43e67d225668fa1f8d618c13dc232df0ca...  NaN     NaN   \n",
       "3  00005ca1c9ed5f5146b52ac8639a40ca9d57aeff4d1bd2...  NaN     NaN   \n",
       "4  00006413d8573cd20ed7128e53b7b13819fe5cfc2d801f...  1.0     1.0   \n",
       "\n",
       "  club_member_status fashion_news_frequency   age  \\\n",
       "0             ACTIVE                   NONE  49.0   \n",
       "1             ACTIVE                   NONE  25.0   \n",
       "2             ACTIVE                   NONE  24.0   \n",
       "3             ACTIVE                   NONE  54.0   \n",
       "4             ACTIVE              Regularly  52.0   \n",
       "\n",
       "                                         postal_code  \n",
       "0  52043ee2162cf5aa7ee79974281641c6f11a68d276429a...  \n",
       "1  2973abc54daa8a5f8ccfe9362140c63247c5eee03f1d93...  \n",
       "2  64f17e6a330a85798e4998f62d0930d14db8db1c054af6...  \n",
       "3  5d36574f52495e81f019b680c843c443bd343d5ca5b1c2...  \n",
       "4  25fa5ddee9aac01b35208d01736e57942317d756b32ddd...  "
      ]
     },
     "execution_count": 20,
     "metadata": {},
     "output_type": "execute_result"
    }
   ],
   "source": [
    "customers.head(5)"
   ]
  },
  {
   "cell_type": "code",
   "execution_count": 21,
   "id": "f182969c",
   "metadata": {
    "ExecuteTime": {
     "end_time": "2023-12-22T10:38:21.640894Z",
     "start_time": "2023-12-22T10:38:20.581734Z"
    }
   },
   "outputs": [
    {
     "name": "stdout",
     "output_type": "stream",
     "text": [
      "<class 'pandas.core.frame.DataFrame'>\n",
      "RangeIndex: 1371980 entries, 0 to 1371979\n",
      "Data columns (total 7 columns):\n",
      " #   Column                  Non-Null Count    Dtype  \n",
      "---  ------                  --------------    -----  \n",
      " 0   customer_id             1371980 non-null  object \n",
      " 1   FN                      476930 non-null   float64\n",
      " 2   Active                  464404 non-null   float64\n",
      " 3   club_member_status      1365918 non-null  object \n",
      " 4   fashion_news_frequency  1355971 non-null  object \n",
      " 5   age                     1356119 non-null  float64\n",
      " 6   postal_code             1371980 non-null  object \n",
      "dtypes: float64(3), object(4)\n",
      "memory usage: 73.3+ MB\n"
     ]
    }
   ],
   "source": [
    "customers.info()"
   ]
  },
  {
   "cell_type": "code",
   "execution_count": 22,
   "id": "4fc8625f",
   "metadata": {
    "ExecuteTime": {
     "end_time": "2023-12-22T10:38:23.064889Z",
     "start_time": "2023-12-22T10:38:21.644882Z"
    }
   },
   "outputs": [
    {
     "data": {
      "text/plain": [
       "customer_id               1371980\n",
       "FN                              1\n",
       "Active                          1\n",
       "club_member_status              3\n",
       "fashion_news_frequency          4\n",
       "age                            84\n",
       "postal_code                352899\n",
       "dtype: int64"
      ]
     },
     "execution_count": 22,
     "metadata": {},
     "output_type": "execute_result"
    }
   ],
   "source": [
    "customers.nunique()"
   ]
  },
  {
   "cell_type": "code",
   "execution_count": 23,
   "id": "b80ae9f1",
   "metadata": {
    "ExecuteTime": {
     "end_time": "2023-12-22T10:38:24.654438Z",
     "start_time": "2023-12-22T10:38:23.068844Z"
    }
   },
   "outputs": [
    {
     "data": {
      "image/png": "[encoded data removed]",
      "text/plain": [
       "<Figure size 640x480 with 1 Axes>"
      ]
     },
     "metadata": {},
     "output_type": "display_data"
    }
   ],
   "source": [
    "plt.hist(customers[\"age\"], edgecolor = 'black')\n",
    "plt.xlabel('Age')\n",
    "plt.ylabel('Frequency')\n",
    "plt.title('Customer Age Histogram')\n",
    "plt.show()"
   ]
  },
  {
   "cell_type": "code",
   "execution_count": 32,
   "id": "8cf144c7",
   "metadata": {
    "ExecuteTime": {
     "end_time": "2023-12-23T06:11:12.807687Z",
     "start_time": "2023-12-23T06:11:11.291337Z"
    }
   },
   "outputs": [
    {
     "data": {
      "text/plain": [
       "<Axes: title={'center': 'Inactive/Active (0/1) users'}>"
      ]
     },
     "execution_count": 32,
     "metadata": {},
     "output_type": "execute_result"
    },
    {
     "data": {
      "image/png": "[encoded data removed]",
      "text/plain": [
       "<Figure size 640x480 with 1 Axes>"
      ]
     },
     "metadata": {},
     "output_type": "display_data"
    }
   ],
   "source": [
    "# Analyzing the activity of the users.\n",
    "customers[\"Active\"] = customers[\"Active\"].fillna(0)\n",
    "\n",
    "plt.title(\"Inactive/Active (0/1) users\")\n",
    "customers[\"Active\"].hist()"
   ]
  },
  {
   "cell_type": "markdown",
   "id": "c765363f",
   "metadata": {},
   "source": [
    "## Preprocess customers"
   ]
  },
  {
   "cell_type": "code",
   "execution_count": 24,
   "id": "f344b998",
   "metadata": {
    "ExecuteTime": {
     "end_time": "2023-12-22T10:38:25.400362Z",
     "start_time": "2023-12-22T10:38:24.657392Z"
    }
   },
   "outputs": [],
   "source": [
    "#결측값 처리\n",
    "customers[['FN', 'Active']] = customers[['FN', 'Active']].fillna(0).astype(int)\n",
    "customers[['club_member_status', 'fashion_news_frequency']] = customers[['club_member_status', \\\n",
    "                                                                         'fashion_news_frequency']].fillna('NONE')"
   ]
  },
  {
   "cell_type": "code",
   "execution_count": 25,
   "id": "ee1b8cf9",
   "metadata": {
    "ExecuteTime": {
     "end_time": "2023-12-22T10:38:25.557954Z",
     "start_time": "2023-12-22T10:38:25.403336Z"
    }
   },
   "outputs": [
    {
     "data": {
      "text/html": [
       "<div>\n",
       "<style scoped>\n",
       "    .dataframe tbody tr th:only-of-type {\n",
       "        vertical-align: middle;\n",
       "    }\n",
       "\n",
       "    .dataframe tbody tr th {\n",
       "        vertical-align: top;\n",
       "    }\n",
       "\n",
       "    .dataframe thead th {\n",
       "        text-align: right;\n",
       "    }\n",
       "</style>\n",
       "<table border=\"1\" class=\"dataframe\">\n",
       "  <thead>\n",
       "    <tr style=\"text-align: right;\">\n",
       "      <th></th>\n",
       "      <th>customer_id</th>\n",
       "      <th>FN</th>\n",
       "      <th>Active</th>\n",
       "      <th>club_member_status</th>\n",
       "      <th>fashion_news_frequency</th>\n",
       "      <th>age</th>\n",
       "      <th>postal_code</th>\n",
       "      <th>age_bins</th>\n",
       "    </tr>\n",
       "  </thead>\n",
       "  <tbody>\n",
       "    <tr>\n",
       "      <th>0</th>\n",
       "      <td>00000dbacae5abe5e23885899a1fa44253a17956c6d1c3...</td>\n",
       "      <td>0</td>\n",
       "      <td>0</td>\n",
       "      <td>ACTIVE</td>\n",
       "      <td>NONE</td>\n",
       "      <td>49.0</td>\n",
       "      <td>52043ee2162cf5aa7ee79974281641c6f11a68d276429a...</td>\n",
       "      <td>5</td>\n",
       "    </tr>\n",
       "    <tr>\n",
       "      <th>1</th>\n",
       "      <td>0000423b00ade91418cceaf3b26c6af3dd342b51fd051e...</td>\n",
       "      <td>0</td>\n",
       "      <td>0</td>\n",
       "      <td>ACTIVE</td>\n",
       "      <td>NONE</td>\n",
       "      <td>25.0</td>\n",
       "      <td>2973abc54daa8a5f8ccfe9362140c63247c5eee03f1d93...</td>\n",
       "      <td>2</td>\n",
       "    </tr>\n",
       "    <tr>\n",
       "      <th>2</th>\n",
       "      <td>000058a12d5b43e67d225668fa1f8d618c13dc232df0ca...</td>\n",
       "      <td>0</td>\n",
       "      <td>0</td>\n",
       "      <td>ACTIVE</td>\n",
       "      <td>NONE</td>\n",
       "      <td>24.0</td>\n",
       "      <td>64f17e6a330a85798e4998f62d0930d14db8db1c054af6...</td>\n",
       "      <td>2</td>\n",
       "    </tr>\n",
       "    <tr>\n",
       "      <th>3</th>\n",
       "      <td>00005ca1c9ed5f5146b52ac8639a40ca9d57aeff4d1bd2...</td>\n",
       "      <td>0</td>\n",
       "      <td>0</td>\n",
       "      <td>ACTIVE</td>\n",
       "      <td>NONE</td>\n",
       "      <td>54.0</td>\n",
       "      <td>5d36574f52495e81f019b680c843c443bd343d5ca5b1c2...</td>\n",
       "      <td>6</td>\n",
       "    </tr>\n",
       "    <tr>\n",
       "      <th>4</th>\n",
       "      <td>00006413d8573cd20ed7128e53b7b13819fe5cfc2d801f...</td>\n",
       "      <td>1</td>\n",
       "      <td>1</td>\n",
       "      <td>ACTIVE</td>\n",
       "      <td>Regularly</td>\n",
       "      <td>52.0</td>\n",
       "      <td>25fa5ddee9aac01b35208d01736e57942317d756b32ddd...</td>\n",
       "      <td>6</td>\n",
       "    </tr>\n",
       "    <tr>\n",
       "      <th>...</th>\n",
       "      <td>...</td>\n",
       "      <td>...</td>\n",
       "      <td>...</td>\n",
       "      <td>...</td>\n",
       "      <td>...</td>\n",
       "      <td>...</td>\n",
       "      <td>...</td>\n",
       "      <td>...</td>\n",
       "    </tr>\n",
       "    <tr>\n",
       "      <th>1371975</th>\n",
       "      <td>ffffbbf78b6eaac697a8a5dfbfd2bfa8113ee5b403e474...</td>\n",
       "      <td>0</td>\n",
       "      <td>0</td>\n",
       "      <td>ACTIVE</td>\n",
       "      <td>NONE</td>\n",
       "      <td>24.0</td>\n",
       "      <td>7aa399f7e669990daba2d92c577b52237380662f36480b...</td>\n",
       "      <td>2</td>\n",
       "    </tr>\n",
       "    <tr>\n",
       "      <th>1371976</th>\n",
       "      <td>ffffcd5046a6143d29a04fb8c424ce494a76e5cdf4fab5...</td>\n",
       "      <td>0</td>\n",
       "      <td>0</td>\n",
       "      <td>ACTIVE</td>\n",
       "      <td>NONE</td>\n",
       "      <td>21.0</td>\n",
       "      <td>3f47f1279beb72215f4de557d950e0bfa73789d24acb5e...</td>\n",
       "      <td>2</td>\n",
       "    </tr>\n",
       "    <tr>\n",
       "      <th>1371977</th>\n",
       "      <td>ffffcf35913a0bee60e8741cb2b4e78b8a98ee5ff2e6a1...</td>\n",
       "      <td>1</td>\n",
       "      <td>1</td>\n",
       "      <td>ACTIVE</td>\n",
       "      <td>Regularly</td>\n",
       "      <td>21.0</td>\n",
       "      <td>4563fc79215672cd6a863f2b4bf56b8f898f2d96ed590e...</td>\n",
       "      <td>2</td>\n",
       "    </tr>\n",
       "    <tr>\n",
       "      <th>1371978</th>\n",
       "      <td>ffffd7744cebcf3aca44ae7049d2a94b87074c3d4ffe38...</td>\n",
       "      <td>1</td>\n",
       "      <td>1</td>\n",
       "      <td>ACTIVE</td>\n",
       "      <td>Regularly</td>\n",
       "      <td>18.0</td>\n",
       "      <td>8892c18e9bc3dca6aa4000cb8094fc4b51ee8db2ed14d7...</td>\n",
       "      <td>1</td>\n",
       "    </tr>\n",
       "    <tr>\n",
       "      <th>1371979</th>\n",
       "      <td>ffffd9ac14e89946416d80e791d064701994755c3ab686...</td>\n",
       "      <td>0</td>\n",
       "      <td>0</td>\n",
       "      <td>PRE-CREATE</td>\n",
       "      <td>NONE</td>\n",
       "      <td>65.0</td>\n",
       "      <td>0a1a03306fb2f62164c2a439b38c0caa64b40deaae8687...</td>\n",
       "      <td>7</td>\n",
       "    </tr>\n",
       "  </tbody>\n",
       "</table>\n",
       "<p>1371980 rows × 8 columns</p>\n",
       "</div>"
      ],
      "text/plain": [
       "                                               customer_id  FN  Active  \\\n",
       "0        00000dbacae5abe5e23885899a1fa44253a17956c6d1c3...   0       0   \n",
       "1        0000423b00ade91418cceaf3b26c6af3dd342b51fd051e...   0       0   \n",
       "2        000058a12d5b43e67d225668fa1f8d618c13dc232df0ca...   0       0   \n",
       "3        00005ca1c9ed5f5146b52ac8639a40ca9d57aeff4d1bd2...   0       0   \n",
       "4        00006413d8573cd20ed7128e53b7b13819fe5cfc2d801f...   1       1   \n",
       "...                                                    ...  ..     ...   \n",
       "1371975  ffffbbf78b6eaac697a8a5dfbfd2bfa8113ee5b403e474...   0       0   \n",
       "1371976  ffffcd5046a6143d29a04fb8c424ce494a76e5cdf4fab5...   0       0   \n",
       "1371977  ffffcf35913a0bee60e8741cb2b4e78b8a98ee5ff2e6a1...   1       1   \n",
       "1371978  ffffd7744cebcf3aca44ae7049d2a94b87074c3d4ffe38...   1       1   \n",
       "1371979  ffffd9ac14e89946416d80e791d064701994755c3ab686...   0       0   \n",
       "\n",
       "        club_member_status fashion_news_frequency   age  \\\n",
       "0                   ACTIVE                   NONE  49.0   \n",
       "1                   ACTIVE                   NONE  25.0   \n",
       "2                   ACTIVE                   NONE  24.0   \n",
       "3                   ACTIVE                   NONE  54.0   \n",
       "4                   ACTIVE              Regularly  52.0   \n",
       "...                    ...                    ...   ...   \n",
       "1371975             ACTIVE                   NONE  24.0   \n",
       "1371976             ACTIVE                   NONE  21.0   \n",
       "1371977             ACTIVE              Regularly  21.0   \n",
       "1371978             ACTIVE              Regularly  18.0   \n",
       "1371979         PRE-CREATE                   NONE  65.0   \n",
       "\n",
       "                                               postal_code age_bins  \n",
       "0        52043ee2162cf5aa7ee79974281641c6f11a68d276429a...        5  \n",
       "1        2973abc54daa8a5f8ccfe9362140c63247c5eee03f1d93...        2  \n",
       "2        64f17e6a330a85798e4998f62d0930d14db8db1c054af6...        2  \n",
       "3        5d36574f52495e81f019b680c843c443bd343d5ca5b1c2...        6  \n",
       "4        25fa5ddee9aac01b35208d01736e57942317d756b32ddd...        6  \n",
       "...                                                    ...      ...  \n",
       "1371975  7aa399f7e669990daba2d92c577b52237380662f36480b...        2  \n",
       "1371976  3f47f1279beb72215f4de557d950e0bfa73789d24acb5e...        2  \n",
       "1371977  4563fc79215672cd6a863f2b4bf56b8f898f2d96ed590e...        2  \n",
       "1371978  8892c18e9bc3dca6aa4000cb8094fc4b51ee8db2ed14d7...        1  \n",
       "1371979  0a1a03306fb2f62164c2a439b38c0caa64b40deaae8687...        7  \n",
       "\n",
       "[1371980 rows x 8 columns]"
      ]
     },
     "execution_count": 25,
     "metadata": {},
     "output_type": "execute_result"
    }
   ],
   "source": [
    "customers['age'] = customers['age'].fillna(customers['age'].mean())\n",
    "\n",
    "bins = [16, 20, 25, 30, 40, 50, 60, 100]\n",
    "labels = [1,2,3,4,5,6,7]\n",
    "customers['age_bins'] = pd.cut(customers['age'], bins=bins, labels=labels)\n",
    "customers"
   ]
  },
  {
   "cell_type": "code",
   "execution_count": 26,
   "id": "a0cda7fd",
   "metadata": {
    "ExecuteTime": {
     "end_time": "2023-12-22T10:38:26.569248Z",
     "start_time": "2023-12-22T10:38:25.560934Z"
    }
   },
   "outputs": [
    {
     "data": {
      "text/plain": [
       "(1371980, 18)"
      ]
     },
     "execution_count": 26,
     "metadata": {},
     "output_type": "execute_result"
    }
   ],
   "source": [
    "ohe_columns = ['club_member_status', 'fashion_news_frequency', 'age_bins']\n",
    "ohe_features = pd.get_dummies(customers[ohe_columns].astype(str)).astype(int)\n",
    "customer_features = pd.concat([customers[['FN', 'Active']], ohe_features], axis=1).values\n",
    "customer_features.shape"
   ]
  },
  {
   "cell_type": "code",
   "execution_count": 27,
   "id": "57e8a26c",
   "metadata": {
    "ExecuteTime": {
     "end_time": "2023-12-22T10:38:27.599811Z",
     "start_time": "2023-12-22T10:38:26.578193Z"
    }
   },
   "outputs": [],
   "source": [
    "customer_features_with_id = {}\n",
    "for customer_id, features in zip(customers['customer_id'].values, customer_features):\n",
    "    customer_features_with_id[customer_id] = features"
   ]
  },
  {
   "cell_type": "markdown",
   "id": "4ac584ac",
   "metadata": {},
   "source": [
    "## EDA transactions"
   ]
  },
  {
   "cell_type": "code",
   "execution_count": 13,
   "id": "f9fbde1a",
   "metadata": {
    "ExecuteTime": {
     "end_time": "2023-12-23T07:08:00.147396Z",
     "start_time": "2023-12-23T07:06:41.687986Z"
    }
   },
   "outputs": [],
   "source": [
    "transactions = pd.read_csv('./transactions_train.csv/transactions_train.csv')"
   ]
  },
  {
   "cell_type": "code",
   "execution_count": 29,
   "id": "e560be55",
   "metadata": {
    "ExecuteTime": {
     "end_time": "2023-12-22T10:39:19.003219Z",
     "start_time": "2023-12-22T10:39:18.856473Z"
    }
   },
   "outputs": [
    {
     "name": "stdout",
     "output_type": "stream",
     "text": [
      "<class 'pandas.core.frame.DataFrame'>\n",
      "RangeIndex: 31788324 entries, 0 to 31788323\n",
      "Data columns (total 5 columns):\n",
      " #   Column            Dtype  \n",
      "---  ------            -----  \n",
      " 0   t_dat             object \n",
      " 1   customer_id       object \n",
      " 2   article_id        int64  \n",
      " 3   price             float64\n",
      " 4   sales_channel_id  int64  \n",
      "dtypes: float64(1), int64(2), object(2)\n",
      "memory usage: 1.2+ GB\n"
     ]
    }
   ],
   "source": [
    "transactions.info()"
   ]
  },
  {
   "cell_type": "code",
   "execution_count": 30,
   "id": "5a391ad4",
   "metadata": {
    "ExecuteTime": {
     "end_time": "2023-12-22T10:39:24.914267Z",
     "start_time": "2023-12-22T10:39:19.006174Z"
    },
    "scrolled": true
   },
   "outputs": [
    {
     "data": {
      "text/plain": [
       "<Axes: >"
      ]
     },
     "execution_count": 30,
     "metadata": {},
     "output_type": "execute_result"
    },
    {
     "data": {
      "image/png": "[encoded data removed]",
      "text/plain": [
       "<Figure size 2000x700 with 1 Axes>"
      ]
     },
     "metadata": {},
     "output_type": "display_data"
    }
   ],
   "source": [
    "pd.to_datetime(transactions['t_dat']).value_counts().sort_index().plot(kind='line', figsize=(20, 7))"
   ]
  },
  {
   "cell_type": "markdown",
   "id": "6257f103",
   "metadata": {},
   "source": [
    "# Neural Network Collaborative Filtering"
   ]
  },
  {
   "cell_type": "markdown",
   "id": "5c52ca0f",
   "metadata": {},
   "source": [
    "## Train test split"
   ]
  },
  {
   "cell_type": "code",
   "execution_count": 31,
   "id": "101cf33a",
   "metadata": {
    "ExecuteTime": {
     "end_time": "2023-12-22T10:39:27.320008Z",
     "start_time": "2023-12-22T10:39:24.918256Z"
    }
   },
   "outputs": [
    {
     "data": {
      "text/plain": [
       "'2020-09-21'"
      ]
     },
     "execution_count": 31,
     "metadata": {},
     "output_type": "execute_result"
    }
   ],
   "source": [
    "from datetime import datetime, timedelta\n",
    "max_date = transactions['t_dat'].max()\n",
    "\n",
    "# keep one last 1 day for test dataset\n",
    "end_train_date = datetime.strptime(max_date, '%Y-%M-%d') - timedelta(days=1)\n",
    "end_train_date = end_train_date.strftime('%Y-%M-%d')\n",
    "end_train_date"
   ]
  },
  {
   "cell_type": "code",
   "execution_count": 32,
   "id": "3dcfee7e",
   "metadata": {
    "ExecuteTime": {
     "end_time": "2023-12-22T10:39:33.208850Z",
     "start_time": "2023-12-22T10:39:27.324996Z"
    }
   },
   "outputs": [
    {
     "data": {
      "text/plain": [
       "((31755458, 5), (32866, 5))"
      ]
     },
     "execution_count": 32,
     "metadata": {},
     "output_type": "execute_result"
    }
   ],
   "source": [
    "transactions_train = transactions[transactions['t_dat']<=end_train_date]\n",
    "transactions_test = transactions[transactions['t_dat']>end_train_date]\n",
    "transactions_train.shape, transactions_test.shape"
   ]
  },
  {
   "cell_type": "code",
   "execution_count": 33,
   "id": "265116cc",
   "metadata": {
    "ExecuteTime": {
     "end_time": "2023-12-22T10:39:33.890565Z",
     "start_time": "2023-12-22T10:39:33.211842Z"
    }
   },
   "outputs": [],
   "source": [
    "articles_ids = pd.Series(list(articles_features_with_id.keys()))\n",
    "def create_zero_target(transactions_df_grouped):\n",
    "    cutomers_lst = []\n",
    "    articles_lst = []\n",
    "    for row in transactions_df_grouped[['customer_id', 'article_id']].itertuples():\n",
    "        customer_id, article_ids = row[1], row[2]\n",
    "        unord_article_id = articles_ids[~articles_ids.isin(article_ids)].sample(50)\n",
    "        cutomers_lst.append(customer_id)\n",
    "        articles_lst.append(unord_article_id)\n",
    "    df = pd.DataFrame({'customer_id':cutomers_lst, 'article_id':articles_lst, 'target':[0]*len(cutomers_lst)}).\\\n",
    "                                                                                            explode('article_id')\n",
    "    return df"
   ]
  },
  {
   "cell_type": "markdown",
   "id": "f3cca418",
   "metadata": {},
   "source": [
    "## Create test dataset"
   ]
  },
  {
   "cell_type": "code",
   "execution_count": 34,
   "id": "88d9cad2",
   "metadata": {
    "ExecuteTime": {
     "end_time": "2023-12-22T10:39:33.906549Z",
     "start_time": "2023-12-22T10:39:33.894580Z"
    },
    "scrolled": true
   },
   "outputs": [
    {
     "name": "stderr",
     "output_type": "stream",
     "text": [
      "C:\\Users\\one\\AppData\\Local\\Temp\\ipykernel_32704\\1659739533.py:1: SettingWithCopyWarning: \n",
      "A value is trying to be set on a copy of a slice from a DataFrame.\n",
      "Try using .loc[row_indexer,col_indexer] = value instead\n",
      "\n",
      "See the caveats in the documentation: https://pandas.pydata.org/pandas-docs/stable/user_guide/indexing.html#returning-a-view-versus-a-copy\n",
      "  transactions_test['target'] = 1\n"
     ]
    }
   ],
   "source": [
    "transactions_test['target'] = 1"
   ]
  },
  {
   "cell_type": "code",
   "execution_count": 35,
   "id": "6319d297",
   "metadata": {
    "ExecuteTime": {
     "end_time": "2023-12-22T10:40:48.993664Z",
     "start_time": "2023-12-22T10:39:33.909541Z"
    }
   },
   "outputs": [
    {
     "data": {
      "text/html": [
       "<div>\n",
       "<style scoped>\n",
       "    .dataframe tbody tr th:only-of-type {\n",
       "        vertical-align: middle;\n",
       "    }\n",
       "\n",
       "    .dataframe tbody tr th {\n",
       "        vertical-align: top;\n",
       "    }\n",
       "\n",
       "    .dataframe thead th {\n",
       "        text-align: right;\n",
       "    }\n",
       "</style>\n",
       "<table border=\"1\" class=\"dataframe\">\n",
       "  <thead>\n",
       "    <tr style=\"text-align: right;\">\n",
       "      <th></th>\n",
       "      <th>customer_id</th>\n",
       "      <th>article_id</th>\n",
       "      <th>target</th>\n",
       "    </tr>\n",
       "  </thead>\n",
       "  <tbody>\n",
       "    <tr>\n",
       "      <th>0</th>\n",
       "      <td>0003e867a930d0d6842f923d6ba7c9b77aba33fe2a0fbf...</td>\n",
       "      <td>827487003</td>\n",
       "      <td>1</td>\n",
       "    </tr>\n",
       "    <tr>\n",
       "      <th>1</th>\n",
       "      <td>0003e867a930d0d6842f923d6ba7c9b77aba33fe2a0fbf...</td>\n",
       "      <td>815291001</td>\n",
       "      <td>0</td>\n",
       "    </tr>\n",
       "    <tr>\n",
       "      <th>2</th>\n",
       "      <td>0003e867a930d0d6842f923d6ba7c9b77aba33fe2a0fbf...</td>\n",
       "      <td>510398012</td>\n",
       "      <td>0</td>\n",
       "    </tr>\n",
       "    <tr>\n",
       "      <th>3</th>\n",
       "      <td>0003e867a930d0d6842f923d6ba7c9b77aba33fe2a0fbf...</td>\n",
       "      <td>820184001</td>\n",
       "      <td>0</td>\n",
       "    </tr>\n",
       "    <tr>\n",
       "      <th>4</th>\n",
       "      <td>0003e867a930d0d6842f923d6ba7c9b77aba33fe2a0fbf...</td>\n",
       "      <td>574198005</td>\n",
       "      <td>0</td>\n",
       "    </tr>\n",
       "    <tr>\n",
       "      <th>...</th>\n",
       "      <td>...</td>\n",
       "      <td>...</td>\n",
       "      <td>...</td>\n",
       "    </tr>\n",
       "    <tr>\n",
       "      <th>559261</th>\n",
       "      <td>fffef3b6b73545df065b521e19f64bf6fe93bfd450ab20...</td>\n",
       "      <td>593829002</td>\n",
       "      <td>0</td>\n",
       "    </tr>\n",
       "    <tr>\n",
       "      <th>559262</th>\n",
       "      <td>fffef3b6b73545df065b521e19f64bf6fe93bfd450ab20...</td>\n",
       "      <td>637531003</td>\n",
       "      <td>0</td>\n",
       "    </tr>\n",
       "    <tr>\n",
       "      <th>559263</th>\n",
       "      <td>fffef3b6b73545df065b521e19f64bf6fe93bfd450ab20...</td>\n",
       "      <td>738929001</td>\n",
       "      <td>0</td>\n",
       "    </tr>\n",
       "    <tr>\n",
       "      <th>559264</th>\n",
       "      <td>fffef3b6b73545df065b521e19f64bf6fe93bfd450ab20...</td>\n",
       "      <td>876444001</td>\n",
       "      <td>0</td>\n",
       "    </tr>\n",
       "    <tr>\n",
       "      <th>559265</th>\n",
       "      <td>fffef3b6b73545df065b521e19f64bf6fe93bfd450ab20...</td>\n",
       "      <td>854790001</td>\n",
       "      <td>0</td>\n",
       "    </tr>\n",
       "  </tbody>\n",
       "</table>\n",
       "<p>559266 rows × 3 columns</p>\n",
       "</div>"
      ],
      "text/plain": [
       "                                              customer_id article_id  target\n",
       "0       0003e867a930d0d6842f923d6ba7c9b77aba33fe2a0fbf...  827487003       1\n",
       "1       0003e867a930d0d6842f923d6ba7c9b77aba33fe2a0fbf...  815291001       0\n",
       "2       0003e867a930d0d6842f923d6ba7c9b77aba33fe2a0fbf...  510398012       0\n",
       "3       0003e867a930d0d6842f923d6ba7c9b77aba33fe2a0fbf...  820184001       0\n",
       "4       0003e867a930d0d6842f923d6ba7c9b77aba33fe2a0fbf...  574198005       0\n",
       "...                                                   ...        ...     ...\n",
       "559261  fffef3b6b73545df065b521e19f64bf6fe93bfd450ab20...  593829002       0\n",
       "559262  fffef3b6b73545df065b521e19f64bf6fe93bfd450ab20...  637531003       0\n",
       "559263  fffef3b6b73545df065b521e19f64bf6fe93bfd450ab20...  738929001       0\n",
       "559264  fffef3b6b73545df065b521e19f64bf6fe93bfd450ab20...  876444001       0\n",
       "559265  fffef3b6b73545df065b521e19f64bf6fe93bfd450ab20...  854790001       0\n",
       "\n",
       "[559266 rows x 3 columns]"
      ]
     },
     "execution_count": 35,
     "metadata": {},
     "output_type": "execute_result"
    }
   ],
   "source": [
    "transactions_test_grouped = transactions_test.drop(['article_id'], axis=1).\\\n",
    "                                                    merge(transactions[['customer_id', 'article_id']], \\\n",
    "                                                    how='left', on='customer_id').\\\n",
    "                                                    groupby('customer_id')['article_id'].apply(lambda x: \\\n",
    "                                                                                        list(set(x))).reset_index()\n",
    "zero_test_target = create_zero_target(transactions_test_grouped)\n",
    "test = pd.concat([transactions_test, zero_test_target])[['customer_id', 'article_id', 'target']].\\\n",
    "                                                                    sort_values(by='customer_id').reset_index(drop=True)\n",
    "test"
   ]
  },
  {
   "cell_type": "code",
   "execution_count": 36,
   "id": "6c47e06f",
   "metadata": {
    "ExecuteTime": {
     "end_time": "2023-12-22T10:40:55.881888Z",
     "start_time": "2023-12-22T10:40:48.997655Z"
    }
   },
   "outputs": [
    {
     "data": {
      "text/plain": [
       "((559266, 18), (559266, 300), (559266,))"
      ]
     },
     "execution_count": 36,
     "metadata": {},
     "output_type": "execute_result"
    }
   ],
   "source": [
    "test_customer_features = np.array([customer_features_with_id[customer_id] for customer_id in \\\n",
    "                                   test['customer_id'].values])\n",
    "test_article_features = np.array([articles_features_with_id[article_id] for article_id in \\\n",
    "                                  test['article_id'].values])\n",
    "test_target = test['target'].values\n",
    "test_customer_features.shape, test_article_features.shape, test_target.shape"
   ]
  },
  {
   "cell_type": "markdown",
   "id": "c4a0df4e",
   "metadata": {},
   "source": [
    "## Create train dataset"
   ]
  },
  {
   "cell_type": "code",
   "execution_count": 37,
   "id": "334db738",
   "metadata": {
    "ExecuteTime": {
     "end_time": "2023-12-22T10:41:55.060273Z",
     "start_time": "2023-12-22T10:40:55.892859Z"
    }
   },
   "outputs": [
    {
     "data": {
      "text/plain": [
       "(932082, 5)"
      ]
     },
     "execution_count": 37,
     "metadata": {},
     "output_type": "execute_result"
    }
   ],
   "source": [
    "transactions_train_grouped = transactions_train.groupby('customer_id')['article_id'].apply(lambda x: len(set(x)))\n",
    "selected_customers = transactions_train_grouped[transactions_train_grouped>10].sample(20000, random_state=1).index.values\n",
    "transactions_train = transactions_train[transactions_train['customer_id'].isin(selected_customers)]\n",
    "transactions_train.shape"
   ]
  },
  {
   "cell_type": "code",
   "execution_count": 38,
   "id": "44c1a2e5",
   "metadata": {
    "ExecuteTime": {
     "end_time": "2023-12-22T10:41:55.387510Z",
     "start_time": "2023-12-22T10:41:55.066259Z"
    }
   },
   "outputs": [
    {
     "data": {
      "text/html": [
       "<div>\n",
       "<style scoped>\n",
       "    .dataframe tbody tr th:only-of-type {\n",
       "        vertical-align: middle;\n",
       "    }\n",
       "\n",
       "    .dataframe tbody tr th {\n",
       "        vertical-align: top;\n",
       "    }\n",
       "\n",
       "    .dataframe thead th {\n",
       "        text-align: right;\n",
       "    }\n",
       "</style>\n",
       "<table border=\"1\" class=\"dataframe\">\n",
       "  <thead>\n",
       "    <tr style=\"text-align: right;\">\n",
       "      <th></th>\n",
       "      <th>t_dat</th>\n",
       "      <th>customer_id</th>\n",
       "      <th>article_id</th>\n",
       "      <th>price</th>\n",
       "      <th>sales_channel_id</th>\n",
       "      <th>target</th>\n",
       "    </tr>\n",
       "  </thead>\n",
       "  <tbody>\n",
       "    <tr>\n",
       "      <th>89</th>\n",
       "      <td>2018-09-20</td>\n",
       "      <td>00708c3da4d07706d4cad77c6aecc1b1ce33d21d73022c...</td>\n",
       "      <td>255396006</td>\n",
       "      <td>0.067780</td>\n",
       "      <td>2</td>\n",
       "      <td>0.24429</td>\n",
       "    </tr>\n",
       "    <tr>\n",
       "      <th>90</th>\n",
       "      <td>2018-09-20</td>\n",
       "      <td>00708c3da4d07706d4cad77c6aecc1b1ce33d21d73022c...</td>\n",
       "      <td>594834010</td>\n",
       "      <td>0.042356</td>\n",
       "      <td>2</td>\n",
       "      <td>0.24429</td>\n",
       "    </tr>\n",
       "    <tr>\n",
       "      <th>91</th>\n",
       "      <td>2018-09-20</td>\n",
       "      <td>00708c3da4d07706d4cad77c6aecc1b1ce33d21d73022c...</td>\n",
       "      <td>516712001</td>\n",
       "      <td>0.022017</td>\n",
       "      <td>2</td>\n",
       "      <td>0.24429</td>\n",
       "    </tr>\n",
       "    <tr>\n",
       "      <th>93</th>\n",
       "      <td>2018-09-20</td>\n",
       "      <td>00761aefe07a2dd6ca110c99f3856ede55f20ff00ce754...</td>\n",
       "      <td>634015003</td>\n",
       "      <td>0.012186</td>\n",
       "      <td>1</td>\n",
       "      <td>0.24429</td>\n",
       "    </tr>\n",
       "    <tr>\n",
       "      <th>94</th>\n",
       "      <td>2018-09-20</td>\n",
       "      <td>00761aefe07a2dd6ca110c99f3856ede55f20ff00ce754...</td>\n",
       "      <td>636351002</td>\n",
       "      <td>0.007610</td>\n",
       "      <td>1</td>\n",
       "      <td>0.24429</td>\n",
       "    </tr>\n",
       "    <tr>\n",
       "      <th>...</th>\n",
       "      <td>...</td>\n",
       "      <td>...</td>\n",
       "      <td>...</td>\n",
       "      <td>...</td>\n",
       "      <td>...</td>\n",
       "      <td>...</td>\n",
       "    </tr>\n",
       "    <tr>\n",
       "      <th>31755087</th>\n",
       "      <td>2020-09-21</td>\n",
       "      <td>fd5873bd76605e3197d653b338c7fc147c93f195366059...</td>\n",
       "      <td>915529005</td>\n",
       "      <td>0.033881</td>\n",
       "      <td>2</td>\n",
       "      <td>1.00000</td>\n",
       "    </tr>\n",
       "    <tr>\n",
       "      <th>31755088</th>\n",
       "      <td>2020-09-21</td>\n",
       "      <td>fd63229e7189ef8731f1584d3a29fd36af4c5853a3ab2b...</td>\n",
       "      <td>936282001</td>\n",
       "      <td>0.025407</td>\n",
       "      <td>2</td>\n",
       "      <td>1.00000</td>\n",
       "    </tr>\n",
       "    <tr>\n",
       "      <th>31755313</th>\n",
       "      <td>2020-09-21</td>\n",
       "      <td>ff05ae6e56395fe81a69192c23f054ffda5e69c1ec28b5...</td>\n",
       "      <td>837249002</td>\n",
       "      <td>0.013542</td>\n",
       "      <td>1</td>\n",
       "      <td>1.00000</td>\n",
       "    </tr>\n",
       "    <tr>\n",
       "      <th>31755314</th>\n",
       "      <td>2020-09-21</td>\n",
       "      <td>ff05ae6e56395fe81a69192c23f054ffda5e69c1ec28b5...</td>\n",
       "      <td>719957017</td>\n",
       "      <td>0.022017</td>\n",
       "      <td>1</td>\n",
       "      <td>1.00000</td>\n",
       "    </tr>\n",
       "    <tr>\n",
       "      <th>31755398</th>\n",
       "      <td>2020-09-21</td>\n",
       "      <td>ff639548ca0e8864613d7be6f397125a9f7aa5913165f8...</td>\n",
       "      <td>874671002</td>\n",
       "      <td>0.011847</td>\n",
       "      <td>2</td>\n",
       "      <td>1.00000</td>\n",
       "    </tr>\n",
       "  </tbody>\n",
       "</table>\n",
       "<p>932082 rows × 6 columns</p>\n",
       "</div>"
      ],
      "text/plain": [
       "              t_dat                                        customer_id  \\\n",
       "89       2018-09-20  00708c3da4d07706d4cad77c6aecc1b1ce33d21d73022c...   \n",
       "90       2018-09-20  00708c3da4d07706d4cad77c6aecc1b1ce33d21d73022c...   \n",
       "91       2018-09-20  00708c3da4d07706d4cad77c6aecc1b1ce33d21d73022c...   \n",
       "93       2018-09-20  00761aefe07a2dd6ca110c99f3856ede55f20ff00ce754...   \n",
       "94       2018-09-20  00761aefe07a2dd6ca110c99f3856ede55f20ff00ce754...   \n",
       "...             ...                                                ...   \n",
       "31755087 2020-09-21  fd5873bd76605e3197d653b338c7fc147c93f195366059...   \n",
       "31755088 2020-09-21  fd63229e7189ef8731f1584d3a29fd36af4c5853a3ab2b...   \n",
       "31755313 2020-09-21  ff05ae6e56395fe81a69192c23f054ffda5e69c1ec28b5...   \n",
       "31755314 2020-09-21  ff05ae6e56395fe81a69192c23f054ffda5e69c1ec28b5...   \n",
       "31755398 2020-09-21  ff639548ca0e8864613d7be6f397125a9f7aa5913165f8...   \n",
       "\n",
       "          article_id     price  sales_channel_id   target  \n",
       "89         255396006  0.067780                 2  0.24429  \n",
       "90         594834010  0.042356                 2  0.24429  \n",
       "91         516712001  0.022017                 2  0.24429  \n",
       "93         634015003  0.012186                 1  0.24429  \n",
       "94         636351002  0.007610                 1  0.24429  \n",
       "...              ...       ...               ...      ...  \n",
       "31755087   915529005  0.033881                 2  1.00000  \n",
       "31755088   936282001  0.025407                 2  1.00000  \n",
       "31755313   837249002  0.013542                 1  1.00000  \n",
       "31755314   719957017  0.022017                 1  1.00000  \n",
       "31755398   874671002  0.011847                 2  1.00000  \n",
       "\n",
       "[932082 rows x 6 columns]"
      ]
     },
     "execution_count": 38,
     "metadata": {},
     "output_type": "execute_result"
    }
   ],
   "source": [
    "transactions_train['t_dat'] = pd.to_datetime(transactions_train['t_dat'])\n",
    "dt_train_max = transactions_train['t_dat'].max()\n",
    "rating_dict = {x: 0.5**((dt_train_max - x).days/360) for x in transactions_train['t_dat'].unique()}\n",
    "transactions_train['target'] = transactions_train['t_dat'].map(rating_dict)\n",
    "transactions_train"
   ]
  },
  {
   "cell_type": "code",
   "execution_count": 43,
   "id": "0d4b3411",
   "metadata": {
    "ExecuteTime": {
     "end_time": "2023-12-22T11:15:02.921165Z",
     "start_time": "2023-12-22T11:09:56.671327Z"
    },
    "scrolled": true
   },
   "outputs": [],
   "source": [
    "transactions_train_grouped = transactions_train.drop(['article_id'], axis=1).\\\n",
    "                                                    merge(transactions[['customer_id', 'article_id']], \\\n",
    "                                                    how='left', on='customer_id').\\\n",
    "                                                    groupby('customer_id')['article_id'].\\\n",
    "                                                    apply(lambda x: list(set(x))).reset_index()\n",
    "\n",
    "zero_train_target = create_zero_target(transactions_train_grouped)\n",
    "train = pd.concat([transactions_train, zero_train_target])[['customer_id', 'article_id', 'target']].\\\n",
    "                                                                    sort_values(by='customer_id').reset_index(drop=True)\n",
    "train = train.iloc[0:30000,:]"
   ]
  },
  {
   "cell_type": "code",
   "execution_count": 44,
   "id": "5babaa20",
   "metadata": {
    "ExecuteTime": {
     "end_time": "2023-12-22T11:15:07.608712Z",
     "start_time": "2023-12-22T11:15:07.581244Z"
    }
   },
   "outputs": [
    {
     "data": {
      "text/html": [
       "<div>\n",
       "<style scoped>\n",
       "    .dataframe tbody tr th:only-of-type {\n",
       "        vertical-align: middle;\n",
       "    }\n",
       "\n",
       "    .dataframe tbody tr th {\n",
       "        vertical-align: top;\n",
       "    }\n",
       "\n",
       "    .dataframe thead th {\n",
       "        text-align: right;\n",
       "    }\n",
       "</style>\n",
       "<table border=\"1\" class=\"dataframe\">\n",
       "  <thead>\n",
       "    <tr style=\"text-align: right;\">\n",
       "      <th></th>\n",
       "      <th>customer_id</th>\n",
       "      <th>article_id</th>\n",
       "      <th>target</th>\n",
       "    </tr>\n",
       "  </thead>\n",
       "  <tbody>\n",
       "    <tr>\n",
       "      <th>0</th>\n",
       "      <td>00015c1a121e08bbd2552c15fbbb6e6b19d3bf8f7b6a3d...</td>\n",
       "      <td>669786001</td>\n",
       "      <td>0.485766</td>\n",
       "    </tr>\n",
       "    <tr>\n",
       "      <th>1</th>\n",
       "      <td>00015c1a121e08bbd2552c15fbbb6e6b19d3bf8f7b6a3d...</td>\n",
       "      <td>518090005</td>\n",
       "      <td>0.000000</td>\n",
       "    </tr>\n",
       "    <tr>\n",
       "      <th>2</th>\n",
       "      <td>00015c1a121e08bbd2552c15fbbb6e6b19d3bf8f7b6a3d...</td>\n",
       "      <td>683667001</td>\n",
       "      <td>0.000000</td>\n",
       "    </tr>\n",
       "    <tr>\n",
       "      <th>3</th>\n",
       "      <td>00015c1a121e08bbd2552c15fbbb6e6b19d3bf8f7b6a3d...</td>\n",
       "      <td>873594001</td>\n",
       "      <td>0.000000</td>\n",
       "    </tr>\n",
       "    <tr>\n",
       "      <th>4</th>\n",
       "      <td>00015c1a121e08bbd2552c15fbbb6e6b19d3bf8f7b6a3d...</td>\n",
       "      <td>850806001</td>\n",
       "      <td>0.000000</td>\n",
       "    </tr>\n",
       "    <tr>\n",
       "      <th>...</th>\n",
       "      <td>...</td>\n",
       "      <td>...</td>\n",
       "      <td>...</td>\n",
       "    </tr>\n",
       "    <tr>\n",
       "      <th>29995</th>\n",
       "      <td>03e5f590311e6b584889017fdd32a71e8ce49a4f21b1c0...</td>\n",
       "      <td>589520004</td>\n",
       "      <td>0.000000</td>\n",
       "    </tr>\n",
       "    <tr>\n",
       "      <th>29996</th>\n",
       "      <td>03e5f590311e6b584889017fdd32a71e8ce49a4f21b1c0...</td>\n",
       "      <td>657497004</td>\n",
       "      <td>0.000000</td>\n",
       "    </tr>\n",
       "    <tr>\n",
       "      <th>29997</th>\n",
       "      <td>03e5f590311e6b584889017fdd32a71e8ce49a4f21b1c0...</td>\n",
       "      <td>573605013</td>\n",
       "      <td>0.000000</td>\n",
       "    </tr>\n",
       "    <tr>\n",
       "      <th>29998</th>\n",
       "      <td>03e5f590311e6b584889017fdd32a71e8ce49a4f21b1c0...</td>\n",
       "      <td>814847001</td>\n",
       "      <td>0.000000</td>\n",
       "    </tr>\n",
       "    <tr>\n",
       "      <th>29999</th>\n",
       "      <td>03e5f590311e6b584889017fdd32a71e8ce49a4f21b1c0...</td>\n",
       "      <td>526194005</td>\n",
       "      <td>0.000000</td>\n",
       "    </tr>\n",
       "  </tbody>\n",
       "</table>\n",
       "<p>30000 rows × 3 columns</p>\n",
       "</div>"
      ],
      "text/plain": [
       "                                             customer_id article_id    target\n",
       "0      00015c1a121e08bbd2552c15fbbb6e6b19d3bf8f7b6a3d...  669786001  0.485766\n",
       "1      00015c1a121e08bbd2552c15fbbb6e6b19d3bf8f7b6a3d...  518090005  0.000000\n",
       "2      00015c1a121e08bbd2552c15fbbb6e6b19d3bf8f7b6a3d...  683667001  0.000000\n",
       "3      00015c1a121e08bbd2552c15fbbb6e6b19d3bf8f7b6a3d...  873594001  0.000000\n",
       "4      00015c1a121e08bbd2552c15fbbb6e6b19d3bf8f7b6a3d...  850806001  0.000000\n",
       "...                                                  ...        ...       ...\n",
       "29995  03e5f590311e6b584889017fdd32a71e8ce49a4f21b1c0...  589520004  0.000000\n",
       "29996  03e5f590311e6b584889017fdd32a71e8ce49a4f21b1c0...  657497004  0.000000\n",
       "29997  03e5f590311e6b584889017fdd32a71e8ce49a4f21b1c0...  573605013  0.000000\n",
       "29998  03e5f590311e6b584889017fdd32a71e8ce49a4f21b1c0...  814847001  0.000000\n",
       "29999  03e5f590311e6b584889017fdd32a71e8ce49a4f21b1c0...  526194005  0.000000\n",
       "\n",
       "[30000 rows x 3 columns]"
      ]
     },
     "execution_count": 44,
     "metadata": {},
     "output_type": "execute_result"
    }
   ],
   "source": [
    "train"
   ]
  },
  {
   "cell_type": "code",
   "execution_count": 46,
   "id": "860985e9",
   "metadata": {
    "ExecuteTime": {
     "end_time": "2023-12-22T11:15:12.750327Z",
     "start_time": "2023-12-22T11:15:12.644667Z"
    }
   },
   "outputs": [
    {
     "data": {
      "text/plain": [
       "((30000, 18), (30000, 300), (30000,))"
      ]
     },
     "execution_count": 46,
     "metadata": {},
     "output_type": "execute_result"
    }
   ],
   "source": [
    "train_customer_features = np.array([customer_features_with_id[customer_id] for customer_id in \\\n",
    "                                    train['customer_id'].values])\n",
    "train_article_features = np.array([articles_features_with_id[article_id] for article_id in \\\n",
    "                                   train['article_id'].values])\n",
    "train_target = train['target'].values\n",
    "train_customer_features.shape, train_article_features.shape, train_target.shape"
   ]
  },
  {
   "cell_type": "code",
   "execution_count": 47,
   "id": "26e0a949",
   "metadata": {
    "ExecuteTime": {
     "end_time": "2023-12-22T11:15:13.014415Z",
     "start_time": "2023-12-22T11:15:12.754318Z"
    }
   },
   "outputs": [
    {
     "data": {
      "text/plain": [
       "29"
      ]
     },
     "execution_count": 47,
     "metadata": {},
     "output_type": "execute_result"
    }
   ],
   "source": [
    "del transactions_train\n",
    "del transactions_train_grouped\n",
    "del transactions_test\n",
    "del transactions_test_grouped\n",
    "import gc\n",
    "gc.collect()"
   ]
  },
  {
   "cell_type": "markdown",
   "id": "0f19fec9",
   "metadata": {},
   "source": [
    "## Train Model"
   ]
  },
  {
   "cell_type": "code",
   "execution_count": 48,
   "id": "a484b43b",
   "metadata": {
    "ExecuteTime": {
     "end_time": "2023-12-22T11:15:33.815031Z",
     "start_time": "2023-12-22T11:15:15.997768Z"
    },
    "scrolled": true
   },
   "outputs": [
    {
     "name": "stdout",
     "output_type": "stream",
     "text": [
      "Model: \"model\"\n",
      "__________________________________________________________________________________________________\n",
      " Layer (type)                   Output Shape         Param #     Connected to                     \n",
      "==================================================================================================\n",
      " input_1 (InputLayer)           [(None, 18)]         0           []                               \n",
      "                                                                                                  \n",
      " input_2 (InputLayer)           [(None, 300)]        0           []                               \n",
      "                                                                                                  \n",
      " sequential (Sequential)        (None, 32)           4302        ['input_1[0][0]']                \n",
      "                                                                                                  \n",
      " sequential_1 (Sequential)      (None, 32)           114080      ['input_2[0][0]']                \n",
      "                                                                                                  \n",
      " tf.math.l2_normalize (TFOpLamb  (None, 32)          0           ['sequential[0][0]']             \n",
      " da)                                                                                              \n",
      "                                                                                                  \n",
      " tf.math.l2_normalize_1 (TFOpLa  (None, 32)          0           ['sequential_1[0][0]']           \n",
      " mbda)                                                                                            \n",
      "                                                                                                  \n",
      " dot (Dot)                      (None, 1)            0           ['tf.math.l2_normalize[0][0]',   \n",
      "                                                                  'tf.math.l2_normalize_1[0][0]'] \n",
      "                                                                                                  \n",
      "==================================================================================================\n",
      "Total params: 118,382\n",
      "Trainable params: 118,382\n",
      "Non-trainable params: 0\n",
      "__________________________________________________________________________________________________\n"
     ]
    }
   ],
   "source": [
    "import tensorflow as tf\n",
    "from tensorflow import keras\n",
    "\n",
    "num_outputs = 32\n",
    "tf.random.set_seed(1)\n",
    "user_NN = tf.keras.models.Sequential([    \n",
    "    tf.keras.layers.Dense(50, activation='relu'),\n",
    "    tf.keras.layers.Dense(40, activation='relu'),\n",
    "    tf.keras.layers.Dense(num_outputs) \n",
    "])\n",
    "\n",
    "item_NN = tf.keras.models.Sequential([   \n",
    "    tf.keras.layers.Dense(256, activation='relu'),\n",
    "    tf.keras.layers.Dense(128, activation='relu'),\n",
    "    tf.keras.layers.Dense(num_outputs)\n",
    "])\n",
    "\n",
    "# create the user input and point to the base network\n",
    "input_user = tf.keras.layers.Input(shape=(train_customer_features.shape[1]))\n",
    "vu = user_NN(input_user)\n",
    "vu = tf.linalg.l2_normalize(vu, axis=1)\n",
    "\n",
    "# create the item input and point to the base network\n",
    "input_item = tf.keras.layers.Input(shape=(train_article_features.shape[1]))\n",
    "vm = item_NN(input_item)\n",
    "vm = tf.linalg.l2_normalize(vm, axis=1)\n",
    "\n",
    "# compute the dot product of the two vectors vu and vm\n",
    "output = tf.keras.layers.Dot(axes=1)([vu, vm])\n",
    "\n",
    "# specify the inputs and output of the model\n",
    "model = tf.keras.Model([input_user, input_item], output)\n",
    "\n",
    "model.summary()"
   ]
  },
  {
   "cell_type": "code",
   "execution_count": 49,
   "id": "a2566116",
   "metadata": {
    "ExecuteTime": {
     "end_time": "2023-12-22T11:15:43.859202Z",
     "start_time": "2023-12-22T11:15:43.831236Z"
    }
   },
   "outputs": [],
   "source": [
    "class SaveBestModel(tf.keras.callbacks.Callback):\n",
    "    def __init__(self, save_best_metric='val_loss', this_max=False):\n",
    "        self.save_best_metric = save_best_metric\n",
    "        self.max = this_max\n",
    "        if this_max:\n",
    "            self.best = float('-inf')\n",
    "        else:\n",
    "            self.best = float('inf')\n",
    "\n",
    "    def on_epoch_end(self, epoch, logs=None):\n",
    "        metric_value = logs[self.save_best_metric]\n",
    "        if self.max:\n",
    "            if metric_value > self.best:\n",
    "                self.best = metric_value\n",
    "                self.best_weights = self.model.get_weights()\n",
    "\n",
    "        else:\n",
    "            if metric_value < self.best:\n",
    "                self.best = metric_value\n",
    "                self.best_weights= self.model.get_weights()\n",
    "                \n",
    "save_best_model = SaveBestModel()"
   ]
  },
  {
   "cell_type": "code",
   "execution_count": 50,
   "id": "106020ff",
   "metadata": {
    "ExecuteTime": {
     "end_time": "2023-12-22T11:15:44.046255Z",
     "start_time": "2023-12-22T11:15:44.001377Z"
    }
   },
   "outputs": [],
   "source": [
    "tf.random.set_seed(1)\n",
    "cost_fn = tf.keras.losses.MeanSquaredError()\n",
    "opt = keras.optimizers.Adam(learning_rate=0.01)\n",
    "model.compile(optimizer=opt,\n",
    "              loss=cost_fn)"
   ]
  },
  {
   "cell_type": "code",
   "execution_count": 51,
   "id": "de039020",
   "metadata": {
    "ExecuteTime": {
     "end_time": "2023-12-22T11:26:46.945987Z",
     "start_time": "2023-12-22T11:15:44.156603Z"
    }
   },
   "outputs": [
    {
     "name": "stdout",
     "output_type": "stream",
     "text": [
      "Epoch 1/20\n",
      "938/938 [==============================] - 43s 44ms/step - loss: 0.0754 - val_loss: 0.0878\n",
      "Epoch 2/20\n",
      "938/938 [==============================] - 32s 34ms/step - loss: 0.0718 - val_loss: 0.0997\n",
      "Epoch 3/20\n",
      "938/938 [==============================] - 33s 35ms/step - loss: 0.0700 - val_loss: 0.0837\n",
      "Epoch 4/20\n",
      "938/938 [==============================] - 32s 34ms/step - loss: 0.0687 - val_loss: 0.0722\n",
      "Epoch 5/20\n",
      "938/938 [==============================] - 33s 35ms/step - loss: 0.0671 - val_loss: 0.0751\n",
      "Epoch 6/20\n",
      "938/938 [==============================] - 32s 34ms/step - loss: 0.0658 - val_loss: 0.0809\n",
      "Epoch 7/20\n",
      "938/938 [==============================] - 33s 35ms/step - loss: 0.0649 - val_loss: 0.0793\n",
      "Epoch 8/20\n",
      "938/938 [==============================] - 32s 35ms/step - loss: 0.0637 - val_loss: 0.0820\n",
      "Epoch 9/20\n",
      "938/938 [==============================] - 32s 35ms/step - loss: 0.0623 - val_loss: 0.0707\n",
      "Epoch 10/20\n",
      "938/938 [==============================] - 33s 35ms/step - loss: 0.0610 - val_loss: 0.0790\n",
      "Epoch 11/20\n",
      "938/938 [==============================] - 33s 35ms/step - loss: 0.0595 - val_loss: 0.0714\n",
      "Epoch 12/20\n",
      "938/938 [==============================] - 32s 35ms/step - loss: 0.0583 - val_loss: 0.0790\n",
      "Epoch 13/20\n",
      "938/938 [==============================] - 33s 36ms/step - loss: 0.0571 - val_loss: 0.0894\n",
      "Epoch 14/20\n",
      "938/938 [==============================] - 34s 36ms/step - loss: 0.0555 - val_loss: 0.0764\n",
      "Epoch 15/20\n",
      "938/938 [==============================] - 33s 35ms/step - loss: 0.0543 - val_loss: 0.0767\n",
      "Epoch 16/20\n",
      "938/938 [==============================] - 32s 35ms/step - loss: 0.0529 - val_loss: 0.0838\n",
      "Epoch 17/20\n",
      "938/938 [==============================] - 32s 35ms/step - loss: 0.0514 - val_loss: 0.0842\n",
      "Epoch 18/20\n",
      "938/938 [==============================] - 32s 34ms/step - loss: 0.0500 - val_loss: 0.0808\n",
      "Epoch 19/20\n",
      "938/938 [==============================] - 33s 35ms/step - loss: 0.0488 - val_loss: 0.0807\n",
      "Epoch 20/20\n",
      "938/938 [==============================] - 32s 34ms/step - loss: 0.0474 - val_loss: 0.0835\n"
     ]
    }
   ],
   "source": [
    "tf.random.set_seed(1)\n",
    "model.fit([train_customer_features, train_article_features], train_target, epochs=20, \\\n",
    "          validation_data=([test_customer_features, test_article_features], test_target), \\\n",
    "          callbacks=[save_best_model])\n",
    "#set best weigts\n",
    "model.set_weights(save_best_model.best_weights)"
   ]
  },
  {
   "cell_type": "code",
   "execution_count": 52,
   "id": "dda1a969",
   "metadata": {
    "ExecuteTime": {
     "end_time": "2023-12-22T11:30:08.401049Z",
     "start_time": "2023-12-22T11:30:07.585197Z"
    }
   },
   "outputs": [
    {
     "data": {
      "text/plain": [
       "1645"
      ]
     },
     "execution_count": 52,
     "metadata": {},
     "output_type": "execute_result"
    }
   ],
   "source": [
    "del train_customer_features\n",
    "del train_article_features\n",
    "del train_target\n",
    "import gc\n",
    "gc.collect()"
   ]
  },
  {
   "cell_type": "markdown",
   "id": "5ee72692",
   "metadata": {},
   "source": [
    "## Make Prediction"
   ]
  },
  {
   "cell_type": "code",
   "execution_count": 53,
   "id": "5427ae66",
   "metadata": {
    "ExecuteTime": {
     "end_time": "2023-12-22T11:31:43.429086Z",
     "start_time": "2023-12-22T11:30:59.374244Z"
    }
   },
   "outputs": [
    {
     "name": "stdout",
     "output_type": "stream",
     "text": [
      "17478/17478 [==============================] - 35s 2ms/step\n"
     ]
    }
   ],
   "source": [
    "predicted_score = model.predict([test_customer_features, test_article_features])"
   ]
  },
  {
   "cell_type": "code",
   "execution_count": 54,
   "id": "15a3d254",
   "metadata": {
    "ExecuteTime": {
     "end_time": "2023-12-22T11:31:53.837729Z",
     "start_time": "2023-12-22T11:31:52.135727Z"
    },
    "scrolled": true
   },
   "outputs": [
    {
     "data": {
      "text/html": [
       "<div>\n",
       "<style scoped>\n",
       "    .dataframe tbody tr th:only-of-type {\n",
       "        vertical-align: middle;\n",
       "    }\n",
       "\n",
       "    .dataframe tbody tr th {\n",
       "        vertical-align: top;\n",
       "    }\n",
       "\n",
       "    .dataframe thead th {\n",
       "        text-align: right;\n",
       "    }\n",
       "</style>\n",
       "<table border=\"1\" class=\"dataframe\">\n",
       "  <thead>\n",
       "    <tr style=\"text-align: right;\">\n",
       "      <th></th>\n",
       "      <th>customer_id</th>\n",
       "      <th>article_id</th>\n",
       "      <th>target</th>\n",
       "      <th>predicted_score</th>\n",
       "      <th>predicted_article_id</th>\n",
       "    </tr>\n",
       "  </thead>\n",
       "  <tbody>\n",
       "    <tr>\n",
       "      <th>0</th>\n",
       "      <td>0003e867a930d0d6842f923d6ba7c9b77aba33fe2a0fbf...</td>\n",
       "      <td>[827487003, 815291001, 510398012, 820184001, 5...</td>\n",
       "      <td>[1, 0, 0, 0, 0, 0, 0, 0, 0, 0, 0, 0, 0, 0, 0, ...</td>\n",
       "      <td>[0.45137107372283936, 0.017354940995573997, 0....</td>\n",
       "      <td>[879287001, 827487003, 708714002, 905718001, 8...</td>\n",
       "    </tr>\n",
       "    <tr>\n",
       "      <th>1</th>\n",
       "      <td>000525e3fe01600d717da8423643a8303390a055c578ed...</td>\n",
       "      <td>[701784002, 488015003, 863013003, 567413002, 4...</td>\n",
       "      <td>[0, 0, 0, 0, 0, 0, 0, 0, 0, 0, 0, 0, 0, 0, 0, ...</td>\n",
       "      <td>[-0.04684814438223839, -0.04990764334797859, 0...</td>\n",
       "      <td>[863156003, 863751002, 559634027, 507888005, 5...</td>\n",
       "    </tr>\n",
       "    <tr>\n",
       "      <th>2</th>\n",
       "      <td>0010e8eb18f131e724d6997909af0808adbba057529edb...</td>\n",
       "      <td>[623522001, 825550004, 578960002, 568751005, 7...</td>\n",
       "      <td>[0, 0, 0, 0, 0, 0, 0, 0, 0, 0, 0, 0, 0, 0, 0, ...</td>\n",
       "      <td>[0.4879324734210968, 0.06660010665655136, -0.0...</td>\n",
       "      <td>[811907004, 623522001, 505196001, 678073001, 8...</td>\n",
       "    </tr>\n",
       "    <tr>\n",
       "      <th>3</th>\n",
       "      <td>001436e2c83cda28548dd668cfc7d621d70d2baf6f6cf0...</td>\n",
       "      <td>[599580056, 625961001, 717196002, 463601012, 6...</td>\n",
       "      <td>[0, 0, 0, 0, 0, 0, 0, 0, 0, 0, 0, 0, 0, 0, 0, ...</td>\n",
       "      <td>[0.2652765214443207, 0.0005046640289947391, 0....</td>\n",
       "      <td>[743229001, 858918001, 721273001, 599580056, 5...</td>\n",
       "    </tr>\n",
       "    <tr>\n",
       "      <th>4</th>\n",
       "      <td>0026ebdd70715d8fa2befa14dfed317a1ffe5451aba839...</td>\n",
       "      <td>[651348001, 868879002, 670233004, 701784001, 7...</td>\n",
       "      <td>[0, 0, 0, 0, 1, 1, 1, 0, 1, 0, 0, 0, 0, 0, 0, ...</td>\n",
       "      <td>[0.10532741993665695, 0.29797646403312683, 0.0...</td>\n",
       "      <td>[850917001, 760084003, 829145004, 793911003, 7...</td>\n",
       "    </tr>\n",
       "    <tr>\n",
       "      <th>...</th>\n",
       "      <td>...</td>\n",
       "      <td>...</td>\n",
       "      <td>...</td>\n",
       "      <td>...</td>\n",
       "      <td>...</td>\n",
       "    </tr>\n",
       "    <tr>\n",
       "      <th>10523</th>\n",
       "      <td>ffd4cf2217de4a0a3f9f610cdec334c803692a18af08ac...</td>\n",
       "      <td>[570150001, 565781001, 646756002, 879242007, 4...</td>\n",
       "      <td>[0, 0, 0, 0, 0, 0, 0, 0, 0, 0, 0, 0, 0, 0, 0, ...</td>\n",
       "      <td>[-0.010509773157536983, 0.03269907459616661, 0...</td>\n",
       "      <td>[865678001, 832505003, 856440002, 791587021, 7...</td>\n",
       "    </tr>\n",
       "    <tr>\n",
       "      <th>10524</th>\n",
       "      <td>fff2282977442e327b45d8c89afde25617d00124d0f999...</td>\n",
       "      <td>[817852002, 831742003, 715226010, 405636007, 4...</td>\n",
       "      <td>[0, 0, 0, 0, 0, 0, 0, 0, 0, 0, 0, 0, 0, 0, 0, ...</td>\n",
       "      <td>[0.05938522145152092, 0.06920911371707916, -0....</td>\n",
       "      <td>[913220002, 875628001, 862249002, 891322004, 7...</td>\n",
       "    </tr>\n",
       "    <tr>\n",
       "      <th>10525</th>\n",
       "      <td>fff380805474b287b05cb2a7507b9a013482f7dd0bce0e...</td>\n",
       "      <td>[449263023, 837957001, 591840001, 189654045, 6...</td>\n",
       "      <td>[0, 0, 0, 0, 0, 0, 0, 0, 0, 0, 0, 0, 0, 0, 0, ...</td>\n",
       "      <td>[0.02544051595032215, 0.15903761982917786, 0.2...</td>\n",
       "      <td>[854021002, 928461001, 677809004, 675070015, 6...</td>\n",
       "    </tr>\n",
       "    <tr>\n",
       "      <th>10526</th>\n",
       "      <td>fff4d3a8b1f3b60af93e78c30a7cb4cf75edaf2590d3e5...</td>\n",
       "      <td>[895487001, 655642001, 683032001, 629604001, 7...</td>\n",
       "      <td>[0, 0, 0, 0, 0, 0, 0, 0, 0, 0, 0, 0, 0, 0, 0, ...</td>\n",
       "      <td>[0.14671503007411957, 0.0976540595293045, 0.23...</td>\n",
       "      <td>[885199005, 411413022, 719103002, 679285002, 6...</td>\n",
       "    </tr>\n",
       "    <tr>\n",
       "      <th>10527</th>\n",
       "      <td>fffef3b6b73545df065b521e19f64bf6fe93bfd450ab20...</td>\n",
       "      <td>[693675001, 660087001, 692115001, 739455005, 8...</td>\n",
       "      <td>[0, 0, 0, 0, 0, 0, 0, 0, 0, 0, 0, 0, 0, 0, 0, ...</td>\n",
       "      <td>[-0.03125719353556633, -0.05344725027680397, 0...</td>\n",
       "      <td>[886966001, 898573003, 831460001, 899329002, 6...</td>\n",
       "    </tr>\n",
       "  </tbody>\n",
       "</table>\n",
       "<p>10528 rows × 5 columns</p>\n",
       "</div>"
      ],
      "text/plain": [
       "                                             customer_id  \\\n",
       "0      0003e867a930d0d6842f923d6ba7c9b77aba33fe2a0fbf...   \n",
       "1      000525e3fe01600d717da8423643a8303390a055c578ed...   \n",
       "2      0010e8eb18f131e724d6997909af0808adbba057529edb...   \n",
       "3      001436e2c83cda28548dd668cfc7d621d70d2baf6f6cf0...   \n",
       "4      0026ebdd70715d8fa2befa14dfed317a1ffe5451aba839...   \n",
       "...                                                  ...   \n",
       "10523  ffd4cf2217de4a0a3f9f610cdec334c803692a18af08ac...   \n",
       "10524  fff2282977442e327b45d8c89afde25617d00124d0f999...   \n",
       "10525  fff380805474b287b05cb2a7507b9a013482f7dd0bce0e...   \n",
       "10526  fff4d3a8b1f3b60af93e78c30a7cb4cf75edaf2590d3e5...   \n",
       "10527  fffef3b6b73545df065b521e19f64bf6fe93bfd450ab20...   \n",
       "\n",
       "                                              article_id  \\\n",
       "0      [827487003, 815291001, 510398012, 820184001, 5...   \n",
       "1      [701784002, 488015003, 863013003, 567413002, 4...   \n",
       "2      [623522001, 825550004, 578960002, 568751005, 7...   \n",
       "3      [599580056, 625961001, 717196002, 463601012, 6...   \n",
       "4      [651348001, 868879002, 670233004, 701784001, 7...   \n",
       "...                                                  ...   \n",
       "10523  [570150001, 565781001, 646756002, 879242007, 4...   \n",
       "10524  [817852002, 831742003, 715226010, 405636007, 4...   \n",
       "10525  [449263023, 837957001, 591840001, 189654045, 6...   \n",
       "10526  [895487001, 655642001, 683032001, 629604001, 7...   \n",
       "10527  [693675001, 660087001, 692115001, 739455005, 8...   \n",
       "\n",
       "                                                  target  \\\n",
       "0      [1, 0, 0, 0, 0, 0, 0, 0, 0, 0, 0, 0, 0, 0, 0, ...   \n",
       "1      [0, 0, 0, 0, 0, 0, 0, 0, 0, 0, 0, 0, 0, 0, 0, ...   \n",
       "2      [0, 0, 0, 0, 0, 0, 0, 0, 0, 0, 0, 0, 0, 0, 0, ...   \n",
       "3      [0, 0, 0, 0, 0, 0, 0, 0, 0, 0, 0, 0, 0, 0, 0, ...   \n",
       "4      [0, 0, 0, 0, 1, 1, 1, 0, 1, 0, 0, 0, 0, 0, 0, ...   \n",
       "...                                                  ...   \n",
       "10523  [0, 0, 0, 0, 0, 0, 0, 0, 0, 0, 0, 0, 0, 0, 0, ...   \n",
       "10524  [0, 0, 0, 0, 0, 0, 0, 0, 0, 0, 0, 0, 0, 0, 0, ...   \n",
       "10525  [0, 0, 0, 0, 0, 0, 0, 0, 0, 0, 0, 0, 0, 0, 0, ...   \n",
       "10526  [0, 0, 0, 0, 0, 0, 0, 0, 0, 0, 0, 0, 0, 0, 0, ...   \n",
       "10527  [0, 0, 0, 0, 0, 0, 0, 0, 0, 0, 0, 0, 0, 0, 0, ...   \n",
       "\n",
       "                                         predicted_score  \\\n",
       "0      [0.45137107372283936, 0.017354940995573997, 0....   \n",
       "1      [-0.04684814438223839, -0.04990764334797859, 0...   \n",
       "2      [0.4879324734210968, 0.06660010665655136, -0.0...   \n",
       "3      [0.2652765214443207, 0.0005046640289947391, 0....   \n",
       "4      [0.10532741993665695, 0.29797646403312683, 0.0...   \n",
       "...                                                  ...   \n",
       "10523  [-0.010509773157536983, 0.03269907459616661, 0...   \n",
       "10524  [0.05938522145152092, 0.06920911371707916, -0....   \n",
       "10525  [0.02544051595032215, 0.15903761982917786, 0.2...   \n",
       "10526  [0.14671503007411957, 0.0976540595293045, 0.23...   \n",
       "10527  [-0.03125719353556633, -0.05344725027680397, 0...   \n",
       "\n",
       "                                    predicted_article_id  \n",
       "0      [879287001, 827487003, 708714002, 905718001, 8...  \n",
       "1      [863156003, 863751002, 559634027, 507888005, 5...  \n",
       "2      [811907004, 623522001, 505196001, 678073001, 8...  \n",
       "3      [743229001, 858918001, 721273001, 599580056, 5...  \n",
       "4      [850917001, 760084003, 829145004, 793911003, 7...  \n",
       "...                                                  ...  \n",
       "10523  [865678001, 832505003, 856440002, 791587021, 7...  \n",
       "10524  [913220002, 875628001, 862249002, 891322004, 7...  \n",
       "10525  [854021002, 928461001, 677809004, 675070015, 6...  \n",
       "10526  [885199005, 411413022, 719103002, 679285002, 6...  \n",
       "10527  [886966001, 898573003, 831460001, 899329002, 6...  \n",
       "\n",
       "[10528 rows x 5 columns]"
      ]
     },
     "execution_count": 54,
     "metadata": {},
     "output_type": "execute_result"
    }
   ],
   "source": [
    "test['predicted_score'] = predicted_score.reshape(-1)\n",
    "test_grouped = test.groupby('customer_id').agg({'article_id':list, 'target':list, 'predicted_score':list})\n",
    "test_grouped = test_grouped[test_grouped['target'].apply(lambda x: len(set(x))>1)]\n",
    "test_grouped['predicted_article_id'] = test_grouped[['article_id', 'predicted_score']].\\\n",
    "                                    apply(lambda x: list(np.array(x[0])[np.argsort(x[1])[::-1]]), axis=1)\n",
    "test_grouped = test_grouped.reset_index()\n",
    "test_grouped"
   ]
  },
  {
   "cell_type": "markdown",
   "id": "ab0965fe",
   "metadata": {},
   "source": [
    "# Customer Clustering : K-means"
   ]
  },
  {
   "cell_type": "code",
   "execution_count": 4,
   "id": "6e614348",
   "metadata": {
    "ExecuteTime": {
     "end_time": "2023-12-23T07:01:46.002524Z",
     "start_time": "2023-12-23T07:01:38.561253Z"
    }
   },
   "outputs": [],
   "source": [
    "import sys, warnings, time, os, copy, gc, re, random, pickle\n",
    "warnings.filterwarnings('ignore')\n",
    "from IPython.display import display\n",
    "import matplotlib.pyplot as plt\n",
    "import numpy as np\n",
    "import pandas as pd\n",
    "sns.set()\n",
    "from pandas.io.json import json_normalize\n",
    "from pprint import pprint\n",
    "from pathlib import Path\n",
    "from tqdm import tqdm\n",
    "tqdm.pandas()\n",
    "from collections import Counter\n",
    "from datetime import datetime, timedelta\n",
    "\n",
    "from sklearn.cluster import KMeans\n",
    "from sklearn import preprocessing"
   ]
  },
  {
   "cell_type": "code",
   "execution_count": 6,
   "id": "33dadb90",
   "metadata": {
    "ExecuteTime": {
     "end_time": "2023-12-23T07:02:18.375867Z",
     "start_time": "2023-12-23T07:02:18.330884Z"
    }
   },
   "outputs": [],
   "source": [
    "class Clustering_HandM():\n",
    "    def customers_preprocessing(self, customers, dropcol=['postal_code'] , **kwargs):\n",
    "        customers = customers.drop(dropcol, axis=1)\n",
    "        customers_col = list(customers.columns)\n",
    "        \n",
    "        if 'fashion_news_frequency' in customers_col :\n",
    "            customers['fashion_news_frequency'] = customers['fashion_news_frequency'].replace('NONE','None')\n",
    "            customers['fashion_news_frequency'] = customers['fashion_news_frequency'].replace({np.nan :0, 'None':0, 'Monthly':1, 'Regularly':2})\n",
    "            \n",
    "        if 'club_member_status' in customers_col:\n",
    "            customers['club_member_status'] = customers['club_member_status'].replace({np.nan :0, 'PRE-CREATE':1, 'ACTIVE':2, 'LEFT CLUB':-1})\n",
    "            \n",
    "        if 'age' in customers_col:\n",
    "            customers['age'] = customers['age'].fillna(-1)\n",
    "            \n",
    "        if 'FN' in customers_col:\n",
    "            customers['FN'] = customers['FN'].fillna(0)\n",
    "\n",
    "        if 'Active' in customers_col:\n",
    "            customers['Active'] = customers['Active'].fillna(0)\n",
    "            \n",
    "            print(f'###NULL DESCRIPTION###\\n{customers.isnull().sum()}')\n",
    "            \n",
    "        return customers\n",
    "    \n",
    "    def clustering(self, df, predcol, usecol, normmethod='StandardScaler', clusters=12, DEBUG=False):\n",
    "        \n",
    "        X = np.array(df[usecol])\n",
    "        \n",
    "        if normmethod == 'StandardScaler':\n",
    "            nm = preprocessing.StandardScaler()\n",
    "            X = nm.fit_transform(X)\n",
    "        elif normmethod == 'minMax':\n",
    "            nm = preprocessing.MinMaxScaler()\n",
    "            X = nm.fit_transform(X)\n",
    "        print(f'NormarlizationMethod:{normmethod}')\n",
    "        \n",
    "        #km = KMeans(n_clusters=clusters, random_state=2022)\n",
    "        km = KMeans(n_clusters=clusters, \n",
    "                    init='k-means++', \n",
    "                    random_state=2022)\n",
    "        km.fit(X)\n",
    "        distortion = km.inertia_\n",
    "        print('Distortion: %.2f'% km.inertia_)\n",
    "\n",
    "        pred = km.labels_\n",
    "        df_pred = pd.DataFrame(pred, columns=['pred'])\n",
    "        df_pred = pd.concat([df, df_pred], axis=1)\n",
    "        \n",
    "        df_norm = pd.DataFrame(X, columns=usecol)\n",
    "        #print(df_norm.describe())\n",
    "\n",
    "\n",
    "        if DEBUG:\n",
    "            df_norm = pd.concat([df[predcol], df_norm], axis=1)\n",
    "            return df_pred, distortion, df_norm\n",
    "        else:\n",
    "            return df_pred, distortion"
   ]
  },
  {
   "cell_type": "code",
   "execution_count": 7,
   "id": "4aeb4e89",
   "metadata": {
    "ExecuteTime": {
     "end_time": "2023-12-23T07:02:36.596903Z",
     "start_time": "2023-12-23T07:02:33.668659Z"
    }
   },
   "outputs": [
    {
     "name": "stdout",
     "output_type": "stream",
     "text": [
      "###NULL DESCRIPTION###\n",
      "customer_id               0\n",
      "FN                        0\n",
      "Active                    0\n",
      "club_member_status        0\n",
      "fashion_news_frequency    0\n",
      "age                       0\n",
      "dtype: int64\n"
     ]
    }
   ],
   "source": [
    "clst = Clustering_HandM()\n",
    "customers = clst.customers_preprocessing(customers)\n",
    "usecol = ['club_member_status', 'fashion_news_frequency', 'age', 'FN', 'Active']\n",
    "predcol = ['customer_id']"
   ]
  },
  {
   "cell_type": "markdown",
   "id": "47d73705",
   "metadata": {},
   "source": [
    "## Modeling"
   ]
  },
  {
   "cell_type": "markdown",
   "id": "e57d89f4",
   "metadata": {},
   "source": [
    "**Determining K, number of clustering by Elbow method**"
   ]
  },
  {
   "cell_type": "code",
   "execution_count": 8,
   "id": "69011a1a",
   "metadata": {
    "ExecuteTime": {
     "end_time": "2023-12-23T07:05:16.057574Z",
     "start_time": "2023-12-23T07:03:02.968391Z"
    }
   },
   "outputs": [
    {
     "name": "stdout",
     "output_type": "stream",
     "text": [
      "---- K = 1 ----\n",
      "NormarlizationMethod:StandardScaler\n",
      "Distortion: 6859900.00\n",
      "---- K = 2 ----\n",
      "NormarlizationMethod:StandardScaler\n",
      "Distortion: 2771170.77\n",
      "---- K = 3 ----\n",
      "NormarlizationMethod:StandardScaler\n",
      "Distortion: 1597291.96\n",
      "---- K = 4 ----\n",
      "NormarlizationMethod:StandardScaler\n",
      "Distortion: 1023548.75\n",
      "---- K = 5 ----\n",
      "NormarlizationMethod:StandardScaler\n",
      "Distortion: 637329.32\n",
      "---- K = 6 ----\n",
      "NormarlizationMethod:StandardScaler\n",
      "Distortion: 544687.21\n",
      "---- K = 7 ----\n",
      "NormarlizationMethod:StandardScaler\n",
      "Distortion: 468451.29\n",
      "---- K = 8 ----\n",
      "NormarlizationMethod:StandardScaler\n",
      "Distortion: 407113.97\n",
      "---- K = 9 ----\n",
      "NormarlizationMethod:StandardScaler\n",
      "Distortion: 342177.31\n",
      "---- K = 10 ----\n",
      "NormarlizationMethod:StandardScaler\n",
      "Distortion: 298142.94\n",
      "---- K = 11 ----\n",
      "NormarlizationMethod:StandardScaler\n",
      "Distortion: 257606.76\n"
     ]
    }
   ],
   "source": [
    "distortions = []\n",
    "kx = []\n",
    "for k in range(1,12):\n",
    "    print(f'---- K = {k} ----')\n",
    "    dfCustomers, dist = clst.clustering(customers, predcol=predcol, usecol=usecol, clusters=k)\n",
    "    distortions.append(dist)\n",
    "    kx.append(k)"
   ]
  },
  {
   "cell_type": "code",
   "execution_count": 9,
   "id": "51a17348",
   "metadata": {
    "ExecuteTime": {
     "end_time": "2023-12-23T07:05:22.512087Z",
     "start_time": "2023-12-23T07:05:21.658684Z"
    }
   },
   "outputs": [
    {
     "data": {
      "text/plain": [
       "<function matplotlib.pyplot.show(close=None, block=None)>"
      ]
     },
     "execution_count": 9,
     "metadata": {},
     "output_type": "execute_result"
    },
    {
     "data": {
      "image/png": "[encoded data removed]",
      "text/plain": [
       "<Figure size 640x480 with 1 Axes>"
      ]
     },
     "metadata": {},
     "output_type": "display_data"
    }
   ],
   "source": [
    "# Elbow method\n",
    "plt.plot(kx, distortions)\n",
    "plt.scatter(kx, distortions)\n",
    "plt.xlabel(\"k: number of clusters\")\n",
    "plt.ylabel(\"Distortion\")\n",
    "plt.show"
   ]
  },
  {
   "cell_type": "code",
   "execution_count": 11,
   "id": "7135247f",
   "metadata": {
    "ExecuteTime": {
     "end_time": "2023-12-23T07:05:52.517758Z",
     "start_time": "2023-12-23T07:05:42.119545Z"
    },
    "scrolled": true
   },
   "outputs": [
    {
     "name": "stdout",
     "output_type": "stream",
     "text": [
      "NormarlizationMethod:StandardScaler\n",
      "Distortion: 637329.32\n"
     ]
    }
   ],
   "source": [
    "K_NUMBER = 5\n",
    "dfCustomers, dist = clst.clustering(customers, predcol=predcol, usecol=usecol, clusters=K_NUMBER)"
   ]
  },
  {
   "cell_type": "markdown",
   "id": "c0f25870",
   "metadata": {},
   "source": [
    "## Train test split"
   ]
  },
  {
   "cell_type": "code",
   "execution_count": 14,
   "id": "a00720a7",
   "metadata": {
    "ExecuteTime": {
     "end_time": "2023-12-23T07:09:30.718313Z",
     "start_time": "2023-12-23T07:08:09.462970Z"
    }
   },
   "outputs": [
    {
     "data": {
      "text/html": [
       "<div>\n",
       "<style scoped>\n",
       "    .dataframe tbody tr th:only-of-type {\n",
       "        vertical-align: middle;\n",
       "    }\n",
       "\n",
       "    .dataframe tbody tr th {\n",
       "        vertical-align: top;\n",
       "    }\n",
       "\n",
       "    .dataframe thead th {\n",
       "        text-align: right;\n",
       "    }\n",
       "</style>\n",
       "<table border=\"1\" class=\"dataframe\">\n",
       "  <thead>\n",
       "    <tr style=\"text-align: right;\">\n",
       "      <th></th>\n",
       "      <th>customer_id</th>\n",
       "      <th>article_id</th>\n",
       "    </tr>\n",
       "    <tr>\n",
       "      <th>t_dat</th>\n",
       "      <th></th>\n",
       "      <th></th>\n",
       "    </tr>\n",
       "  </thead>\n",
       "  <tbody>\n",
       "    <tr>\n",
       "      <th>2018-09-20</th>\n",
       "      <td>000058a12d5b43e67d225668fa1f8d618c13dc232df0ca...</td>\n",
       "      <td>663713001</td>\n",
       "    </tr>\n",
       "    <tr>\n",
       "      <th>2018-09-20</th>\n",
       "      <td>000058a12d5b43e67d225668fa1f8d618c13dc232df0ca...</td>\n",
       "      <td>541518023</td>\n",
       "    </tr>\n",
       "    <tr>\n",
       "      <th>2018-09-20</th>\n",
       "      <td>00007d2de826758b65a93dd24ce629ed66842531df6699...</td>\n",
       "      <td>505221004</td>\n",
       "    </tr>\n",
       "    <tr>\n",
       "      <th>2018-09-20</th>\n",
       "      <td>00007d2de826758b65a93dd24ce629ed66842531df6699...</td>\n",
       "      <td>685687003</td>\n",
       "    </tr>\n",
       "    <tr>\n",
       "      <th>2018-09-20</th>\n",
       "      <td>00007d2de826758b65a93dd24ce629ed66842531df6699...</td>\n",
       "      <td>685687004</td>\n",
       "    </tr>\n",
       "  </tbody>\n",
       "</table>\n",
       "</div>"
      ],
      "text/plain": [
       "                                                  customer_id  article_id\n",
       "t_dat                                                                    \n",
       "2018-09-20  000058a12d5b43e67d225668fa1f8d618c13dc232df0ca...   663713001\n",
       "2018-09-20  000058a12d5b43e67d225668fa1f8d618c13dc232df0ca...   541518023\n",
       "2018-09-20  00007d2de826758b65a93dd24ce629ed66842531df6699...   505221004\n",
       "2018-09-20  00007d2de826758b65a93dd24ce629ed66842531df6699...   685687003\n",
       "2018-09-20  00007d2de826758b65a93dd24ce629ed66842531df6699...   685687004"
      ]
     },
     "execution_count": 14,
     "metadata": {},
     "output_type": "execute_result"
    }
   ],
   "source": [
    "dfTransactions = pd.read_csv('./transactions_train.csv/transactions_train.csv', \n",
    "                               usecols=['t_dat', 'customer_id', 'article_id'],\n",
    "                               dtype={'article_id': 'int32', 't_dat': 'string', 'customer_id': 'string'})\n",
    "dfTransactions['t_dat'] = pd.to_datetime(dfTransactions['t_dat'])\n",
    "dfTransactions.set_index('t_dat', inplace=True)\n",
    "dfTransactions.head()"
   ]
  },
  {
   "cell_type": "code",
   "execution_count": 16,
   "id": "915a2909",
   "metadata": {
    "ExecuteTime": {
     "end_time": "2023-12-23T07:10:21.761170Z",
     "start_time": "2023-12-23T07:10:16.729922Z"
    }
   },
   "outputs": [
    {
     "data": {
      "text/html": [
       "<div>\n",
       "<style scoped>\n",
       "    .dataframe tbody tr th:only-of-type {\n",
       "        vertical-align: middle;\n",
       "    }\n",
       "\n",
       "    .dataframe tbody tr th {\n",
       "        vertical-align: top;\n",
       "    }\n",
       "\n",
       "    .dataframe thead th {\n",
       "        text-align: right;\n",
       "    }\n",
       "</style>\n",
       "<table border=\"1\" class=\"dataframe\">\n",
       "  <thead>\n",
       "    <tr style=\"text-align: right;\">\n",
       "      <th></th>\n",
       "      <th>pred</th>\n",
       "      <th>article_id</th>\n",
       "      <th>counts</th>\n",
       "    </tr>\n",
       "  </thead>\n",
       "  <tbody>\n",
       "    <tr>\n",
       "      <th>0</th>\n",
       "      <td>0</td>\n",
       "      <td>108775044</td>\n",
       "      <td>6</td>\n",
       "    </tr>\n",
       "    <tr>\n",
       "      <th>1</th>\n",
       "      <td>0</td>\n",
       "      <td>111565001</td>\n",
       "      <td>43</td>\n",
       "    </tr>\n",
       "    <tr>\n",
       "      <th>2</th>\n",
       "      <td>0</td>\n",
       "      <td>111586001</td>\n",
       "      <td>129</td>\n",
       "    </tr>\n",
       "    <tr>\n",
       "      <th>3</th>\n",
       "      <td>0</td>\n",
       "      <td>111593001</td>\n",
       "      <td>117</td>\n",
       "    </tr>\n",
       "    <tr>\n",
       "      <th>4</th>\n",
       "      <td>0</td>\n",
       "      <td>111609001</td>\n",
       "      <td>18</td>\n",
       "    </tr>\n",
       "    <tr>\n",
       "      <th>...</th>\n",
       "      <td>...</td>\n",
       "      <td>...</td>\n",
       "      <td>...</td>\n",
       "    </tr>\n",
       "    <tr>\n",
       "      <th>72070</th>\n",
       "      <td>4</td>\n",
       "      <td>952267001</td>\n",
       "      <td>12</td>\n",
       "    </tr>\n",
       "    <tr>\n",
       "      <th>72071</th>\n",
       "      <td>4</td>\n",
       "      <td>952938001</td>\n",
       "      <td>1</td>\n",
       "    </tr>\n",
       "    <tr>\n",
       "      <th>72072</th>\n",
       "      <td>4</td>\n",
       "      <td>953450001</td>\n",
       "      <td>3</td>\n",
       "    </tr>\n",
       "    <tr>\n",
       "      <th>72073</th>\n",
       "      <td>4</td>\n",
       "      <td>953763001</td>\n",
       "      <td>3</td>\n",
       "    </tr>\n",
       "    <tr>\n",
       "      <th>72074</th>\n",
       "      <td>4</td>\n",
       "      <td>956217002</td>\n",
       "      <td>3</td>\n",
       "    </tr>\n",
       "  </tbody>\n",
       "</table>\n",
       "<p>72075 rows × 3 columns</p>\n",
       "</div>"
      ],
      "text/plain": [
       "       pred  article_id  counts\n",
       "0         0   108775044       6\n",
       "1         0   111565001      43\n",
       "2         0   111586001     129\n",
       "3         0   111593001     117\n",
       "4         0   111609001      18\n",
       "...     ...         ...     ...\n",
       "72070     4   952267001      12\n",
       "72071     4   952938001       1\n",
       "72072     4   953450001       3\n",
       "72073     4   953763001       3\n",
       "72074     4   956217002       3\n",
       "\n",
       "[72075 rows x 3 columns]"
      ]
     },
     "metadata": {},
     "output_type": "display_data"
    },
    {
     "data": {
      "text/plain": [
       "[0, 1, 2, 3, 4]"
      ]
     },
     "metadata": {},
     "output_type": "display_data"
    }
   ],
   "source": [
    "dfRecent = dfTransactions.loc['2020-09-01' : '2020-09-21']\n",
    "dfRecent = dfRecent.merge(dfCustomers[['customer_id', 'pred']], on='customer_id', how='inner')\n",
    "dfRecent = dfRecent.groupby(['pred', 'article_id']).count().reset_index().rename(columns={'customer_id': 'counts'})\n",
    "listUniBins = dfRecent['pred'].unique().tolist()\n",
    "display(dfRecent, listUniBins)"
   ]
  },
  {
   "cell_type": "code",
   "execution_count": 17,
   "id": "98c9299f",
   "metadata": {
    "ExecuteTime": {
     "end_time": "2023-12-23T07:10:35.224449Z",
     "start_time": "2023-12-23T07:10:35.127335Z"
    }
   },
   "outputs": [],
   "source": [
    "dict100 = {}\n",
    "for uniBin in listUniBins:\n",
    "    # dfTemp = dfRecent[dfRecent['age_bins'] == uniBin]\n",
    "    dfTemp = dfRecent[dfRecent['pred'] == uniBin]\n",
    "    dfTemp = dfTemp.sort_values(by='counts', ascending=False)\n",
    "    dict100[uniBin] = dfTemp.head(100)['article_id'].values.tolist()\n",
    "\n",
    "df100 = pd.DataFrame([dict100]).T.rename(columns={0:'top100'})"
   ]
  },
  {
   "cell_type": "code",
   "execution_count": 18,
   "id": "8a77b897",
   "metadata": {
    "ExecuteTime": {
     "end_time": "2023-12-23T07:10:43.409069Z",
     "start_time": "2023-12-23T07:10:43.356020Z"
    }
   },
   "outputs": [
    {
     "data": {
      "text/html": [
       "<div>\n",
       "<style scoped>\n",
       "    .dataframe tbody tr th:only-of-type {\n",
       "        vertical-align: middle;\n",
       "    }\n",
       "\n",
       "    .dataframe tbody tr th {\n",
       "        vertical-align: top;\n",
       "    }\n",
       "\n",
       "    .dataframe thead th {\n",
       "        text-align: right;\n",
       "    }\n",
       "</style>\n",
       "<table border=\"1\" class=\"dataframe\">\n",
       "  <thead>\n",
       "    <tr style=\"text-align: right;\">\n",
       "      <th></th>\n",
       "      <th>top100</th>\n",
       "    </tr>\n",
       "  </thead>\n",
       "  <tbody>\n",
       "    <tr>\n",
       "      <th>0</th>\n",
       "      <td>[918292001, 448509014, 909370001, 706016001, 9...</td>\n",
       "    </tr>\n",
       "    <tr>\n",
       "      <th>1</th>\n",
       "      <td>[751471043, 751471001, 896152002, 924243001, 9...</td>\n",
       "    </tr>\n",
       "    <tr>\n",
       "      <th>2</th>\n",
       "      <td>[751471043, 751471001, 915529003, 918522001, 9...</td>\n",
       "    </tr>\n",
       "    <tr>\n",
       "      <th>3</th>\n",
       "      <td>[751471001, 758034001, 448509014, 748355003, 8...</td>\n",
       "    </tr>\n",
       "    <tr>\n",
       "      <th>4</th>\n",
       "      <td>[909370001, 915526001, 924243001, 918292001, 9...</td>\n",
       "    </tr>\n",
       "  </tbody>\n",
       "</table>\n",
       "</div>"
      ],
      "text/plain": [
       "                                              top100\n",
       "0  [918292001, 448509014, 909370001, 706016001, 9...\n",
       "1  [751471043, 751471001, 896152002, 924243001, 9...\n",
       "2  [751471043, 751471001, 915529003, 918522001, 9...\n",
       "3  [751471001, 758034001, 448509014, 748355003, 8...\n",
       "4  [909370001, 915526001, 924243001, 918292001, 9..."
      ]
     },
     "execution_count": 18,
     "metadata": {},
     "output_type": "execute_result"
    }
   ],
   "source": [
    "df100"
   ]
  },
  {
   "cell_type": "code",
   "execution_count": 19,
   "id": "3b5196f5",
   "metadata": {
    "ExecuteTime": {
     "end_time": "2023-12-23T07:10:55.497944Z",
     "start_time": "2023-12-23T07:10:54.510661Z"
    }
   },
   "outputs": [
    {
     "data": {
      "text/plain": [
       "<Axes: >"
      ]
     },
     "execution_count": 19,
     "metadata": {},
     "output_type": "execute_result"
    },
    {
     "data": {
      "image/png": "[encoded data removed]",
      "text/plain": [
       "<Figure size 1000x600 with 1 Axes>"
      ]
     },
     "metadata": {},
     "output_type": "display_data"
    }
   ],
   "source": [
    "for index in df100.index:\n",
    "    df100[index] = [len(set(df100.at[index, 'top100']) & set(df100.at[x, 'top100']))/100 for x in df100.index]\n",
    "\n",
    "df100 = df100.drop(columns='top100')\n",
    "plt.figure(figsize=(10, 6))\n",
    "sns.heatmap(df100, annot=True, cbar=False)"
   ]
  },
  {
   "cell_type": "code",
   "execution_count": 22,
   "id": "9b8ebd99",
   "metadata": {
    "ExecuteTime": {
     "end_time": "2023-12-23T07:14:42.250984Z",
     "start_time": "2023-12-23T07:13:32.946330Z"
    }
   },
   "outputs": [],
   "source": [
    "df_org  = pd.read_csv('./transactions_train.csv/transactions_train.csv',\n",
    "                        usecols= ['t_dat', 'customer_id', 'article_id'], \n",
    "                        dtype={'article_id': 'int32', 't_dat': 'string', 'customer_id': 'string'})"
   ]
  },
  {
   "cell_type": "code",
   "execution_count": 23,
   "id": "611d9412",
   "metadata": {
    "ExecuteTime": {
     "end_time": "2023-12-23T07:14:56.551757Z",
     "start_time": "2023-12-23T07:14:56.469596Z"
    }
   },
   "outputs": [
    {
     "data": {
      "text/html": [
       "<div>\n",
       "<style scoped>\n",
       "    .dataframe tbody tr th:only-of-type {\n",
       "        vertical-align: middle;\n",
       "    }\n",
       "\n",
       "    .dataframe tbody tr th {\n",
       "        vertical-align: top;\n",
       "    }\n",
       "\n",
       "    .dataframe thead th {\n",
       "        text-align: right;\n",
       "    }\n",
       "</style>\n",
       "<table border=\"1\" class=\"dataframe\">\n",
       "  <thead>\n",
       "    <tr style=\"text-align: right;\">\n",
       "      <th></th>\n",
       "      <th>t_dat</th>\n",
       "      <th>customer_id</th>\n",
       "      <th>article_id</th>\n",
       "    </tr>\n",
       "  </thead>\n",
       "  <tbody>\n",
       "    <tr>\n",
       "      <th>0</th>\n",
       "      <td>2018-09-20</td>\n",
       "      <td>000058a12d5b43e67d225668fa1f8d618c13dc232df0ca...</td>\n",
       "      <td>663713001</td>\n",
       "    </tr>\n",
       "    <tr>\n",
       "      <th>1</th>\n",
       "      <td>2018-09-20</td>\n",
       "      <td>000058a12d5b43e67d225668fa1f8d618c13dc232df0ca...</td>\n",
       "      <td>541518023</td>\n",
       "    </tr>\n",
       "    <tr>\n",
       "      <th>2</th>\n",
       "      <td>2018-09-20</td>\n",
       "      <td>00007d2de826758b65a93dd24ce629ed66842531df6699...</td>\n",
       "      <td>505221004</td>\n",
       "    </tr>\n",
       "    <tr>\n",
       "      <th>3</th>\n",
       "      <td>2018-09-20</td>\n",
       "      <td>00007d2de826758b65a93dd24ce629ed66842531df6699...</td>\n",
       "      <td>685687003</td>\n",
       "    </tr>\n",
       "    <tr>\n",
       "      <th>4</th>\n",
       "      <td>2018-09-20</td>\n",
       "      <td>00007d2de826758b65a93dd24ce629ed66842531df6699...</td>\n",
       "      <td>685687004</td>\n",
       "    </tr>\n",
       "    <tr>\n",
       "      <th>...</th>\n",
       "      <td>...</td>\n",
       "      <td>...</td>\n",
       "      <td>...</td>\n",
       "    </tr>\n",
       "    <tr>\n",
       "      <th>31788319</th>\n",
       "      <td>2020-09-22</td>\n",
       "      <td>fff2282977442e327b45d8c89afde25617d00124d0f999...</td>\n",
       "      <td>929511001</td>\n",
       "    </tr>\n",
       "    <tr>\n",
       "      <th>31788320</th>\n",
       "      <td>2020-09-22</td>\n",
       "      <td>fff2282977442e327b45d8c89afde25617d00124d0f999...</td>\n",
       "      <td>891322004</td>\n",
       "    </tr>\n",
       "    <tr>\n",
       "      <th>31788321</th>\n",
       "      <td>2020-09-22</td>\n",
       "      <td>fff380805474b287b05cb2a7507b9a013482f7dd0bce0e...</td>\n",
       "      <td>918325001</td>\n",
       "    </tr>\n",
       "    <tr>\n",
       "      <th>31788322</th>\n",
       "      <td>2020-09-22</td>\n",
       "      <td>fff4d3a8b1f3b60af93e78c30a7cb4cf75edaf2590d3e5...</td>\n",
       "      <td>833459002</td>\n",
       "    </tr>\n",
       "    <tr>\n",
       "      <th>31788323</th>\n",
       "      <td>2020-09-22</td>\n",
       "      <td>fffef3b6b73545df065b521e19f64bf6fe93bfd450ab20...</td>\n",
       "      <td>898573003</td>\n",
       "    </tr>\n",
       "  </tbody>\n",
       "</table>\n",
       "<p>31788324 rows × 3 columns</p>\n",
       "</div>"
      ],
      "text/plain": [
       "               t_dat                                        customer_id  \\\n",
       "0         2018-09-20  000058a12d5b43e67d225668fa1f8d618c13dc232df0ca...   \n",
       "1         2018-09-20  000058a12d5b43e67d225668fa1f8d618c13dc232df0ca...   \n",
       "2         2018-09-20  00007d2de826758b65a93dd24ce629ed66842531df6699...   \n",
       "3         2018-09-20  00007d2de826758b65a93dd24ce629ed66842531df6699...   \n",
       "4         2018-09-20  00007d2de826758b65a93dd24ce629ed66842531df6699...   \n",
       "...              ...                                                ...   \n",
       "31788319  2020-09-22  fff2282977442e327b45d8c89afde25617d00124d0f999...   \n",
       "31788320  2020-09-22  fff2282977442e327b45d8c89afde25617d00124d0f999...   \n",
       "31788321  2020-09-22  fff380805474b287b05cb2a7507b9a013482f7dd0bce0e...   \n",
       "31788322  2020-09-22  fff4d3a8b1f3b60af93e78c30a7cb4cf75edaf2590d3e5...   \n",
       "31788323  2020-09-22  fffef3b6b73545df065b521e19f64bf6fe93bfd450ab20...   \n",
       "\n",
       "          article_id  \n",
       "0          663713001  \n",
       "1          541518023  \n",
       "2          505221004  \n",
       "3          685687003  \n",
       "4          685687004  \n",
       "...              ...  \n",
       "31788319   929511001  \n",
       "31788320   891322004  \n",
       "31788321   918325001  \n",
       "31788322   833459002  \n",
       "31788323   898573003  \n",
       "\n",
       "[31788324 rows x 3 columns]"
      ]
     },
     "execution_count": 23,
     "metadata": {},
     "output_type": "execute_result"
    }
   ],
   "source": [
    "df_org"
   ]
  },
  {
   "cell_type": "code",
   "execution_count": 24,
   "id": "c4c0ed23",
   "metadata": {
    "ExecuteTime": {
     "end_time": "2023-12-23T07:15:07.396359Z",
     "start_time": "2023-12-23T07:15:03.192203Z"
    }
   },
   "outputs": [
    {
     "name": "stdout",
     "output_type": "stream",
     "text": [
      "last day for train: 2020-09-15\n"
     ]
    }
   ],
   "source": [
    "last_ts = df_org['t_dat'].max()\n",
    "last_ts = (datetime.fromisoformat(last_ts) - timedelta(days=7)).strftime(\"%Y-%m-%d\")\n",
    "print(f'last day for train: {last_ts}')"
   ]
  },
  {
   "cell_type": "code",
   "execution_count": 25,
   "id": "856fbc53",
   "metadata": {
    "ExecuteTime": {
     "end_time": "2023-12-23T07:15:33.325123Z",
     "start_time": "2023-12-23T07:15:14.748919Z"
    }
   },
   "outputs": [
    {
     "name": "stdout",
     "output_type": "stream",
     "text": [
      "2020-09-15\n"
     ]
    }
   ],
   "source": [
    "df_train = df_org[df_org['t_dat'] <= last_ts]\n",
    "df_test = df_org[df_org['t_dat'] > last_ts]\n",
    "last_ts = df_train['t_dat'].max()\n",
    "print(last_ts)"
   ]
  },
  {
   "cell_type": "code",
   "execution_count": 26,
   "id": "f6a60da2",
   "metadata": {
    "ExecuteTime": {
     "end_time": "2023-12-23T07:15:51.484777Z",
     "start_time": "2023-12-23T07:15:44.977696Z"
    },
    "scrolled": true
   },
   "outputs": [
    {
     "data": {
      "text/plain": [
       "customer_id\n",
       "00039306476aaf41a07fed942884f16b30abfa83a2a8be...                                         [0624486001]\n",
       "0003e867a930d0d6842f923d6ba7c9b77aba33fe2a0fbf...                                         [0827487003]\n",
       "000493dd9fc463df1acc2081450c9e75ef8e87d5dd17ed...                 [0757926001, 0788575004, 0640021019]\n",
       "000525e3fe01600d717da8423643a8303390a055c578ed...                                         [0874110016]\n",
       "00077dbd5c4a4991e092e63893ccf29294a9d5c46e8501...    [0903762001, 0879189005, 0158340001, 086796600...\n",
       "                                                                           ...                        \n",
       "fffa67737587e52ff1afa9c7c6490b5eb7acbc439fe82b...                             [0874816003, 0911870004]\n",
       "fffa7d7799eb390a76308454cbdd76e473d65b1497fbe4...                             [0861803014, 0849886010]\n",
       "fffae8eb3a282d8c43c77dd2ca0621703b71e90904dfde...    [0396135007, 0817472007, 0715624050, 081747200...\n",
       "fffd870c6324ad3bda24e4d6aeae221c199479086bfdfd...                             [0750423010, 0761269001]\n",
       "fffef3b6b73545df065b521e19f64bf6fe93bfd450ab20...                                         [0898573003]\n",
       "Name: article_id, Length: 68984, dtype: object"
      ]
     },
     "execution_count": 26,
     "metadata": {},
     "output_type": "execute_result"
    }
   ],
   "source": [
    "df_test[\"article_id\"] = df_test[\"article_id\"].astype(str)\n",
    "df_test[\"article_id\"] = df_test[\"article_id\"].str.zfill(10)\n",
    "df_test2 = df_test.groupby(['customer_id'])[\"article_id\"].apply(list)\n",
    "df_test2"
   ]
  },
  {
   "cell_type": "code",
   "execution_count": 28,
   "id": "e31efc78",
   "metadata": {
    "ExecuteTime": {
     "end_time": "2023-12-23T07:22:01.605984Z",
     "start_time": "2023-12-23T07:22:00.796239Z"
    }
   },
   "outputs": [
    {
     "data": {
      "text/plain": [
       "<function matplotlib.pyplot.show(close=None, block=None)>"
      ]
     },
     "execution_count": 28,
     "metadata": {},
     "output_type": "execute_result"
    },
    {
     "data": {
      "image/png": "[encoded data removed]",
      "text/plain": [
       "<Figure size 640x480 with 1 Axes>"
      ]
     },
     "metadata": {},
     "output_type": "display_data"
    }
   ],
   "source": [
    "a, b, c, d = 2.5e4, 1.5e6, 3e-1, 1e3\n",
    "#a, b, c, d = 2.5e4, 1.5e5, 2e-1, 1e3\n",
    "x = np.array(range(0, 100))\n",
    "y = a / np.sqrt(x) + b * np.exp(-c * x) - d\n",
    "plt.plot(x, y)\n",
    "plt.xlabel(\"delta [days]\")\n",
    "plt.ylabel(\"Weight\")\n",
    "plt.show"
   ]
  },
  {
   "cell_type": "code",
   "execution_count": 32,
   "id": "441d25fd",
   "metadata": {
    "ExecuteTime": {
     "end_time": "2023-12-23T07:29:06.384362Z",
     "start_time": "2023-12-23T07:24:07.899677Z"
    }
   },
   "outputs": [
    {
     "name": "stdout",
     "output_type": "stream",
     "text": [
      "The shape of scope transaction for 0 is (11412280, 4). \n",
      "\n",
      "mAP Score on Validation set: 0.022361942717757797\n",
      "prediction for 0. The shape is (24153, 3). \n",
      "\n",
      "--------------------------------------------------\n",
      "The shape of scope transaction for 1 is (5293193, 4). \n",
      "\n",
      "mAP Score on Validation set: 0.026242879833257134\n",
      "prediction for 1. The shape is (12170, 3). \n",
      "\n",
      "--------------------------------------------------\n",
      "The shape of scope transaction for 2 is (5991257, 4). \n",
      "\n",
      "mAP Score on Validation set: 0.025164498473697443\n",
      "prediction for 2. The shape is (12797, 3). \n",
      "\n",
      "--------------------------------------------------\n",
      "The shape of scope transaction for 3 is (681773, 4). \n",
      "\n",
      "mAP Score on Validation set: 0.02535710283780039\n",
      "prediction for 3. The shape is (939, 3). \n",
      "\n",
      "--------------------------------------------------\n",
      "The shape of scope transaction for 4 is (8169510, 4). \n",
      "\n",
      "mAP Score on Validation set: 0.022204887395586043\n",
      "prediction for 4. The shape is (18925, 3). \n",
      "\n",
      "--------------------------------------------------\n",
      "Finished.\n",
      "\n",
      "==================================================\n"
     ]
    }
   ],
   "source": [
    "# 결과를 저장할 리스트들\n",
    "score_k = []  # 각 Bin에 대한 mAP 스코어를 저장\n",
    "num_customers = []  # 각 Bin에 대한 고객 수를 저장\n",
    "\n",
    "# 각 Bin에 대한 작업을 수행\n",
    "for uniBin in listUniBins:\n",
    "    df = df_train.copy()\n",
    "\n",
    "    # KMeans를 사용하여 데이터를 segmantation\n",
    "    if str(uniBin) == 'nan':\n",
    "        dfCustomersTemp = dfCustomers[dfCustomers['pred'].isnull()]\n",
    "    else:\n",
    "        dfCustomersTemp = dfCustomers[dfCustomers['pred'] == uniBin]\n",
    "    dfCustomersTemp = dfCustomersTemp.drop(['pred'], axis=1)\n",
    "    df = df.merge(dfCustomersTemp[['customer_id', 'age']], on='customer_id', how='inner')\n",
    "\n",
    "    # 메모리를 줄이기 위한 처리\n",
    "    df['customer_id'] = df['customer_id'].apply(lambda x: int(x[-16:], 16)).astype('int64')\n",
    "    df['t_dat'] = pd.to_datetime(df['t_dat'])\n",
    "    last_ts = df['t_dat'].max()\n",
    "\n",
    "    # 판매량을 계산하기 위한 일주일 주기 설정\n",
    "    tmp = df[['t_dat']].copy()\n",
    "    tmp['dow'] = tmp['t_dat'].dt.dayofweek\n",
    "    tmp['ldbw'] = tmp['t_dat'] - pd.TimedeltaIndex(tmp['dow'] - 1, unit='D')\n",
    "    tmp.loc[tmp['dow'] >= 2, 'ldbw'] = tmp.loc[tmp['dow'] >= 2, 'ldbw'] + pd.TimedeltaIndex(\n",
    "        np.ones(len(tmp.loc[tmp['dow'] >= 2])) * 7, unit='D')\n",
    "    df['ldbw'] = tmp['ldbw'].values\n",
    "\n",
    "    # 주간 판매량 계산\n",
    "    weekly_sales = df.drop('customer_id', axis=1).groupby(['ldbw', 'article_id']).count().reset_index()\n",
    "    weekly_sales = weekly_sales.rename(columns={'t_dat': 'count'})\n",
    "    df = df.merge(weekly_sales, on=['ldbw', 'article_id'], how='left')\n",
    "    weekly_sales = weekly_sales.reset_index().set_index('article_id')\n",
    "\n",
    "    df['quotient'] = df['count_targ'] / df['count']\n",
    "    target_sales = df.drop('customer_id', axis=1).groupby('article_id')['quotient'].sum()\n",
    "    general_pred = target_sales.nlargest(N).index.tolist()\n",
    "    general_pred = ['0' + str(article_id) for article_id in general_pred]\n",
    "    general_pred_str = ' '.join(general_pred)\n",
    "    del target_sales\n",
    "\n",
    "    purchase_dict = {}\n",
    "\n",
    "    tmp = df.copy()\n",
    "    tmp['x'] = ((last_ts - tmp['t_dat']) / np.timedelta64(1, 'D')).astype(int)\n",
    "    tmp['dummy_1'] = 1\n",
    "    tmp['x'] = tmp[[\"x\", \"dummy_1\"]].max(axis=1)\n",
    "    tmp['y'] = a / np.sqrt(tmp['x']) + b * np.exp(-c * tmp['x']) - d\n",
    "    tmp['dummy_0'] = 0\n",
    "    tmp['y'] = tmp[[\"y\", \"dummy_0\"]].max(axis=1)\n",
    "    tmp['value'] = tmp['quotient'] * tmp['y']\n",
    "\n",
    "    tmp = tmp.groupby(['customer_id', 'article_id']).agg({'value': 'sum'})\n",
    "    tmp = tmp.reset_index()\n",
    "\n",
    "    tmp = tmp.loc[tmp['value'] > 0]\n",
    "    tmp['rank'] = tmp.groupby(\"customer_id\")[\"value\"].rank(\"dense\", ascending=False)\n",
    "    tmp = tmp.loc[tmp['rank'] <= 12]\n",
    "\n",
    "    purchase_df = tmp.sort_values(['customer_id', 'value'], ascending=False).reset_index(drop=True)\n",
    "    purchase_df['prediction'] = '0' + purchase_df['article_id'].astype(str) + ' '\n",
    "    purchase_df = purchase_df.groupby('customer_id').agg({'prediction': sum}).reset_index()\n",
    "    purchase_df['prediction'] = purchase_df['prediction'].str.strip()\n",
    "    purchase_df = pd.DataFrame(purchase_df)\n",
    "\n",
    "    sub = df_val.groupby([\"customer_id\"]).count()\n",
    "    sub.reset_index()\n",
    "\n",
    "    numCustomers = sub.shape[0]\n",
    "\n",
    "    sub = sub.merge(dfCustomersTemp[['customer_id', 'age']], on='customer_id', how='inner')\n",
    "\n",
    "    sub['customer_id2'] = sub['customer_id'].apply(lambda x: int(x[-16:], 16)).astype('int64')\n",
    "    sub = sub.merge(purchase_df, left_on='customer_id2', right_on='customer_id', how='left',\n",
    "                    suffixes=('','_ignored'))\n",
    "\n",
    "    sub['prediction'] = sub['prediction'].fillna(general_pred_str)\n",
    "    sub['prediction'] = sub['prediction'] + ' ' + general_pred_str\n",
    "    sub['prediction'] = sub['prediction'].str.strip()\n",
    "    sub['prediction'] = sub['prediction'].str[:131]\n",
    "    sub = sub[['customer_id', 'prediction']]\n",
    "    sub['prediction2'] = sub['prediction'].apply(lambda x: x.split())\n",
    "    sub2 = sub.merge(df_val2, on='customer_id', how='left', suffixes=('article_id', 'val'))\n",
    "    val_items = sub2[\"article_id\"].tolist()\n",
    "    outputs = sub2[\"prediction2\"].tolist()\n",
    "    score = mapk(val_items, outputs)\n",
    "    print(\"mAP Score on Validation set:\", score)\n",
    "    print(f'prediction for {uniBin}. The shape is {sub.shape}. \\n')\n",
    "\n",
    "    score_k.append(score)\n",
    "    num_customers.append(sub.shape[0])\n",
    "\n",
    "    print('-' * 50)\n",
    "print('Finished.\\n')\n",
    "print('=' * 50)"
   ]
  },
  {
   "cell_type": "markdown",
   "id": "24801cdd",
   "metadata": {},
   "source": [
    "# Evaluation"
   ]
  },
  {
   "cell_type": "markdown",
   "id": "a5185b12",
   "metadata": {},
   "source": [
    "## NCF"
   ]
  },
  {
   "cell_type": "code",
   "execution_count": 29,
   "id": "9648e043",
   "metadata": {
    "ExecuteTime": {
     "end_time": "2023-12-23T07:22:06.355102Z",
     "start_time": "2023-12-23T07:22:06.289225Z"
    }
   },
   "outputs": [],
   "source": [
    "def ap_k(actual, predicted, k):\n",
    "    \"\"\"\n",
    "    Computes the average precision at k.\n",
    "    This function computes the average prescision at k between two lists of\n",
    "    items.\n",
    "    Parameters\n",
    "    ----------\n",
    "    actual : list\n",
    "             A list of elements that are to be predicted (order doesn't matter)\n",
    "    predicted : list\n",
    "                A list of predicted elements (order does matter)\n",
    "    k : int, optional\n",
    "        The maximum number of predicted elements\n",
    "    Returns\n",
    "    -------\n",
    "    score : double\n",
    "            The average precision at k over the input lists\n",
    "    \"\"\"\n",
    "    if len(predicted)>k:\n",
    "        predicted = predicted[:k]\n",
    "\n",
    "    score = 0.0\n",
    "    num_hits = 0.0\n",
    "\n",
    "    for i,p in enumerate(predicted):\n",
    "        if p in actual and p not in predicted[:i]:\n",
    "            num_hits += 1.0\n",
    "            score += num_hits / (i+1.0)\n",
    "\n",
    "    if not actual:\n",
    "        return 0.0\n",
    "\n",
    "    return score / min(len(actual), k)\n",
    "\n",
    "\n",
    "def ndcg_k(y_true, y_pred, k):\n",
    "    dcg = 0\n",
    "    N = len(y_true)\n",
    "    if N == 0:\n",
    "        return 0\n",
    "    for idx, item in enumerate(y_pred[:k], start=1):\n",
    "        dcg += (2 ** (item in y_true) - 1) / np.log2(1 + idx)\n",
    "    idcg = sum(1 / np.log2(1 + i) for i in range(1, N + 1))\n",
    "    return dcg / idcg\n",
    "\n",
    "def measure_rank_metrics(test_set, k):\n",
    "    \n",
    "    group_cols = ['customer_id']\n",
    "    explode_cols = ['article_id', 'target']\n",
    "    data_full = test_set[group_cols + explode_cols +['predicted_article_id']].explode(explode_cols)\n",
    "    data = data_full.sort_values(group_cols, ascending=False)\n",
    "    data[f'rn'] = data.groupby(group_cols).cumcount()+1\n",
    "    data = data[(data.rn <= k) | (data.target == 1)]\n",
    "\n",
    "    data_group = data.groupby(group_cols)\n",
    "    map_all = round(data_group.apply(\n",
    "                lambda x: ap_k(x.loc[x['target'] == 1, 'article_id'].tolist(), \n",
    "                              x['predicted_article_id'].values[0][:k], k)).values.mean(), 5)\n",
    "\n",
    "    ndcg_all = round(data_group.apply(\n",
    "                lambda x: ndcg_k(x.loc[x['target'] == 1, 'article_id'].tolist(), \n",
    "                               x['predicted_article_id'].values[0][:k], k)).values.mean(), 5)\n",
    "    \n",
    "    return map_all, ndcg_all\n",
    "\n",
    "def measure_metrics(test_set, k=10):\n",
    "    metrics = {}\n",
    "    map_all, ndcg_all = measure_rank_metrics(test_set, k)\n",
    "    metrics['map_all'] = map_all\n",
    "    metrics['ndcg_all'] = ndcg_all\n",
    "    \n",
    "    return metrics"
   ]
  },
  {
   "cell_type": "code",
   "execution_count": 56,
   "id": "45a6990e",
   "metadata": {
    "ExecuteTime": {
     "end_time": "2023-12-22T11:32:39.631837Z",
     "start_time": "2023-12-22T11:32:31.750454Z"
    }
   },
   "outputs": [
    {
     "data": {
      "text/plain": [
       "{'map_all': 0.24425, 'ndcg_all': 0.39383}"
      ]
     },
     "execution_count": 56,
     "metadata": {},
     "output_type": "execute_result"
    }
   ],
   "source": [
    "measure_metrics(test_grouped, 12)"
   ]
  },
  {
   "cell_type": "markdown",
   "id": "dc3f0dc1",
   "metadata": {},
   "source": [
    "## K-means"
   ]
  },
  {
   "cell_type": "code",
   "execution_count": 34,
   "id": "c08eeb46",
   "metadata": {
    "ExecuteTime": {
     "end_time": "2023-12-23T07:37:31.722570Z",
     "start_time": "2023-12-23T07:37:31.693500Z"
    }
   },
   "outputs": [],
   "source": [
    "def apk(actual, predicted, k=12):\n",
    "    if len(predicted)>k:\n",
    "        predicted = predicted[:k]\n",
    "\n",
    "    score = 0.0\n",
    "    num_hits = 0.0\n",
    "\n",
    "    for i, p in enumerate(predicted):\n",
    "        if p in actual and p not in predicted[:i]:\n",
    "            num_hits += 1.0\n",
    "            score += num_hits / (i+1.0)\n",
    "\n",
    "    if not actual:\n",
    "        return 0.0\n",
    "\n",
    "    return score / min(len(actual), k)\n",
    "\n",
    "def mapk(actual, predicted, k=12):\n",
    "    return np.mean([apk(a,p,k) for a,p in zip(actual, predicted)])"
   ]
  },
  {
   "cell_type": "code",
   "execution_count": 36,
   "id": "d6619021",
   "metadata": {
    "ExecuteTime": {
     "end_time": "2023-12-23T08:12:47.422255Z",
     "start_time": "2023-12-23T08:12:47.362480Z"
    },
    "scrolled": true
   },
   "outputs": [
    {
     "name": "stdout",
     "output_type": "stream",
     "text": [
      "mAP Score on Test set: 0.023564185181010232\n"
     ]
    }
   ],
   "source": [
    "score_list = np.array(score_k)\n",
    "num_list = np.array(num_customers)\n",
    "\n",
    "total = (score_list * num_list).sum()\n",
    "count = num_list.sum()\n",
    "print(\"mAP Score on Test set:\", total/count)"
   ]
  }
 ],
 "metadata": {
  "kernelspec": {
   "display_name": "Python 3 (ipykernel)",
   "language": "python",
   "name": "python3"
  },
  "language_info": {
   "codemirror_mode": {
    "name": "ipython",
    "version": 3
   },
   "file_extension": ".py",
   "mimetype": "text/x-python",
   "name": "python",
   "nbconvert_exporter": "python",
   "pygments_lexer": "ipython3",
   "version": "3.9.16"
  },
  "toc": {
   "base_numbering": 1,
   "nav_menu": {},
   "number_sections": true,
   "sideBar": true,
   "skip_h1_title": false,
   "title_cell": "Table of Contents",
   "title_sidebar": "Contents",
   "toc_cell": false,
   "toc_position": {
    "height": "calc(100% - 180px)",
    "left": "10px",
    "top": "150px",
    "width": "166.917px"
   },
   "toc_section_display": true,
   "toc_window_display": false
  }
 },
 "nbformat": 4,
 "nbformat_minor": 5
}
